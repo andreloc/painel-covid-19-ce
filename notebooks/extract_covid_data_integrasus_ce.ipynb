{
 "cells": [
  {
   "cell_type": "markdown",
   "metadata": {},
   "source": [
    "## Extração de Dados da API Open Data SUS\n",
    "\n",
    "O objetivo desse notebook será gerar um CSV com um conjunto de dados associados de forma a possibilitar diferentes análises que faremos nas etapas seguintes. \n",
    "\n",
    "A idéia é ter em cada linha da tabela a informação do município e como ele estava no dia em questão e dessa maneira poder ser analisado evolução de casos e situações ao decorrer do tempo. \n",
    "\n",
    "Metas: \n",
    "- [x] Integrar dados agrupados por município com informações descritivas e geográficas \n",
    "- [x] Obter indicadores de casos separados por cada dia \n",
    "- [x] Obter informação do aumento do número suspeitos, confirmados e óbitos por dia\n",
    "- [x] Salvar dados em CSV\n",
    "- [ ] Salvar dados em Excel (XLSX) "
   ]
  },
  {
   "cell_type": "markdown",
   "metadata": {},
   "source": [
    "### Links Referência OpenSUS\n",
    "\n",
    "1. [Conjunto de APIs](https://github.com/EscolaDeSaudePublica/coronavirusAPI/issues/17)\n",
    "\n",
    "### Links Interessantes\n",
    "Abaixo alguns links utilizados com maiores instruções e detalhamentos sobre os procedimentos utilizados. \n",
    "\n",
    "1. [Convertendo JSON to dataframe](https://stackoverflow.com/questions/42518864/convert-json-data-from-request-into-pandas-dataframe)\n",
    "\n",
    "2. [Básico de Plotly](https://paulovasconcellos.com.br/como-criar-gr%C3%A1ficos-interativos-utilizando-plotly-e-python-3eb6eda57a2b)\n",
    "\n",
    "3. [Como Trabalhar com Datas](https://dicasdepython.com.br/python-como-converter-date-em-string-com-formatacao/)\n"
   ]
  },
  {
   "cell_type": "markdown",
   "metadata": {},
   "source": [
    "### Instalando dependências\n",
    "As dependências utilizadas estão a seguir. Basta descomentar e executar a célula abaixo para que possa ser instalada. "
   ]
  },
  {
   "cell_type": "code",
   "execution_count": 1,
   "metadata": {},
   "outputs": [],
   "source": [
    "# %conda install -c anaconda requests\n",
    "# %conda install -c plotly chart-studio\n",
    "# %conda install -c plotly plotly"
   ]
  },
  {
   "cell_type": "markdown",
   "metadata": {},
   "source": [
    "### Iniciando dependências e configurações básicas"
   ]
  },
  {
   "cell_type": "code",
   "execution_count": 2,
   "metadata": {},
   "outputs": [],
   "source": [
    "import pandas as pd\n",
    "import requests\n",
    "from datetime import date,datetime, timedelta\n",
    "import numpy as np"
   ]
  },
  {
   "cell_type": "markdown",
   "metadata": {},
   "source": [
    "### Criando um método auxiliar para consumir as APIs \n",
    "\n",
    "Normalmente todas APIs seguem o padrão de alguns campos como idMunicipio (ID IBGE do município) e data (dia no formato YYYY-MM-DD). "
   ]
  },
  {
   "cell_type": "code",
   "execution_count": 3,
   "metadata": {},
   "outputs": [],
   "source": [
    "def get_dataframe(api_url, data='', id_municipio=''):\n",
    "    '''Método básico para converter uma chamada a API em um objeto Dataframe'''\n",
    "    \n",
    "    api_url = api_url + '?'\n",
    "    if(id_municipio != ''): \n",
    "        api_url = '{}idMunicipio={}&'.format(api_url, id_municipio)\n",
    "    \n",
    "    if(data != ''): \n",
    "        api_url = '{}data={}&'.format(api_url, data)\n",
    "    \n",
    "    result = requests.get(api_url)\n",
    "    result = result.json()    \n",
    "    result = pd.DataFrame.from_dict(result)\n",
    "    \n",
    "    if(id_municipio != ''): \n",
    "        result.insert(0, 'idMunicipio', id_municipio)\n",
    "        \n",
    "    return result"
   ]
  },
  {
   "cell_type": "code",
   "execution_count": 4,
   "metadata": {},
   "outputs": [],
   "source": [
    "municipios          = get_dataframe('https://indicadores.integrasus.saude.ce.gov.br/api/municipio')\n",
    "macro_regiao        = get_dataframe('https://indicadores.integrasus.saude.ce.gov.br/api/macro-regiao')\n",
    "regiao_saude        = get_dataframe('https://indicadores.integrasus.saude.ce.gov.br/api/regiao-saude')\n",
    "qtd_por_municipios  = get_dataframe('https://indicadores.integrasus.saude.ce.gov.br/api/coronavirus/qtd-por-municipio')"
   ]
  },
  {
   "cell_type": "code",
   "execution_count": 5,
   "metadata": {},
   "outputs": [
    {
     "data": {
      "text/html": [
       "<div>\n",
       "<style scoped>\n",
       "    .dataframe tbody tr th:only-of-type {\n",
       "        vertical-align: middle;\n",
       "    }\n",
       "\n",
       "    .dataframe tbody tr th {\n",
       "        vertical-align: top;\n",
       "    }\n",
       "\n",
       "    .dataframe thead th {\n",
       "        text-align: right;\n",
       "    }\n",
       "</style>\n",
       "<table border=\"1\" class=\"dataframe\">\n",
       "  <thead>\n",
       "    <tr style=\"text-align: right;\">\n",
       "      <th></th>\n",
       "      <th>tipo</th>\n",
       "      <th>idMunicipio</th>\n",
       "      <th>qtdSuspeito</th>\n",
       "      <th>municipio</th>\n",
       "      <th>qtdObito</th>\n",
       "      <th>qtdConfirmado</th>\n",
       "    </tr>\n",
       "  </thead>\n",
       "  <tbody>\n",
       "    <tr>\n",
       "      <th>0</th>\n",
       "      <td>Em investigação</td>\n",
       "      <td>230010.0</td>\n",
       "      <td>4.0</td>\n",
       "      <td>ABAIARA</td>\n",
       "      <td>NaN</td>\n",
       "      <td>NaN</td>\n",
       "    </tr>\n",
       "    <tr>\n",
       "      <th>1</th>\n",
       "      <td>Em investigação</td>\n",
       "      <td>230015.0</td>\n",
       "      <td>5.0</td>\n",
       "      <td>ACARAPE</td>\n",
       "      <td>NaN</td>\n",
       "      <td>NaN</td>\n",
       "    </tr>\n",
       "    <tr>\n",
       "      <th>2</th>\n",
       "      <td>Em investigação</td>\n",
       "      <td>230020.0</td>\n",
       "      <td>28.0</td>\n",
       "      <td>ACARAU</td>\n",
       "      <td>NaN</td>\n",
       "      <td>NaN</td>\n",
       "    </tr>\n",
       "  </tbody>\n",
       "</table>\n",
       "</div>"
      ],
      "text/plain": [
       "              tipo  idMunicipio  qtdSuspeito municipio  qtdObito  \\\n",
       "0  Em investigação     230010.0          4.0   ABAIARA       NaN   \n",
       "1  Em investigação     230015.0          5.0   ACARAPE       NaN   \n",
       "2  Em investigação     230020.0         28.0    ACARAU       NaN   \n",
       "\n",
       "   qtdConfirmado  \n",
       "0            NaN  \n",
       "1            NaN  \n",
       "2            NaN  "
      ]
     },
     "execution_count": 5,
     "metadata": {},
     "output_type": "execute_result"
    }
   ],
   "source": [
    "qtd_por_municipios.head(3)"
   ]
  },
  {
   "cell_type": "code",
   "execution_count": 6,
   "metadata": {},
   "outputs": [
    {
     "data": {
      "text/html": [
       "<div>\n",
       "<style scoped>\n",
       "    .dataframe tbody tr th:only-of-type {\n",
       "        vertical-align: middle;\n",
       "    }\n",
       "\n",
       "    .dataframe tbody tr th {\n",
       "        vertical-align: top;\n",
       "    }\n",
       "\n",
       "    .dataframe thead th {\n",
       "        text-align: right;\n",
       "    }\n",
       "</style>\n",
       "<table border=\"1\" class=\"dataframe\">\n",
       "  <thead>\n",
       "    <tr style=\"text-align: right;\">\n",
       "      <th></th>\n",
       "      <th>id</th>\n",
       "      <th>idMacroRegiao</th>\n",
       "      <th>idRegiaoSaude</th>\n",
       "      <th>descricao</th>\n",
       "      <th>latitude</th>\n",
       "      <th>longitude</th>\n",
       "    </tr>\n",
       "  </thead>\n",
       "  <tbody>\n",
       "    <tr>\n",
       "      <th>0</th>\n",
       "      <td>230010</td>\n",
       "      <td>8</td>\n",
       "      <td>19</td>\n",
       "      <td>ABAIARA</td>\n",
       "      <td>-735542</td>\n",
       "      <td>-3904079</td>\n",
       "    </tr>\n",
       "    <tr>\n",
       "      <th>1</th>\n",
       "      <td>230015</td>\n",
       "      <td>1</td>\n",
       "      <td>2</td>\n",
       "      <td>ACARAPE</td>\n",
       "      <td>-422124</td>\n",
       "      <td>-3870508</td>\n",
       "    </tr>\n",
       "    <tr>\n",
       "      <th>2</th>\n",
       "      <td>230020</td>\n",
       "      <td>2</td>\n",
       "      <td>12</td>\n",
       "      <td>ACARAU</td>\n",
       "      <td>-288469</td>\n",
       "      <td>-4011870</td>\n",
       "    </tr>\n",
       "  </tbody>\n",
       "</table>\n",
       "</div>"
      ],
      "text/plain": [
       "       id  idMacroRegiao  idRegiaoSaude descricao latitude longitude\n",
       "0  230010              8             19   ABAIARA  -735542  -3904079\n",
       "1  230015              1              2   ACARAPE  -422124  -3870508\n",
       "2  230020              2             12    ACARAU  -288469  -4011870"
      ]
     },
     "execution_count": 6,
     "metadata": {},
     "output_type": "execute_result"
    }
   ],
   "source": [
    "municipios.head(3)"
   ]
  },
  {
   "cell_type": "code",
   "execution_count": 7,
   "metadata": {},
   "outputs": [
    {
     "data": {
      "text/html": [
       "<div>\n",
       "<style scoped>\n",
       "    .dataframe tbody tr th:only-of-type {\n",
       "        vertical-align: middle;\n",
       "    }\n",
       "\n",
       "    .dataframe tbody tr th {\n",
       "        vertical-align: top;\n",
       "    }\n",
       "\n",
       "    .dataframe thead th {\n",
       "        text-align: right;\n",
       "    }\n",
       "</style>\n",
       "<table border=\"1\" class=\"dataframe\">\n",
       "  <thead>\n",
       "    <tr style=\"text-align: right;\">\n",
       "      <th></th>\n",
       "      <th>id</th>\n",
       "      <th>descricao</th>\n",
       "    </tr>\n",
       "  </thead>\n",
       "  <tbody>\n",
       "    <tr>\n",
       "      <th>0</th>\n",
       "      <td>8</td>\n",
       "      <td>CARIRI</td>\n",
       "    </tr>\n",
       "    <tr>\n",
       "      <th>1</th>\n",
       "      <td>1</td>\n",
       "      <td>FORTALEZA</td>\n",
       "    </tr>\n",
       "    <tr>\n",
       "      <th>2</th>\n",
       "      <td>10</td>\n",
       "      <td>LITORAL LESTE/JAGUARIBE</td>\n",
       "    </tr>\n",
       "  </tbody>\n",
       "</table>\n",
       "</div>"
      ],
      "text/plain": [
       "   id                descricao\n",
       "0   8                   CARIRI\n",
       "1   1                FORTALEZA\n",
       "2  10  LITORAL LESTE/JAGUARIBE"
      ]
     },
     "execution_count": 7,
     "metadata": {},
     "output_type": "execute_result"
    }
   ],
   "source": [
    "macro_regiao.head(3)"
   ]
  },
  {
   "cell_type": "markdown",
   "metadata": {},
   "source": [
    "### Unir Município e Macro Região\n",
    "Como unir os dados dessas tabelas? Vamos usar a função [merge](https://pandas.pydata.org/pandas-docs/stable/reference/api/pandas.DataFrame.merge.html) do pandas, o qual é semelhante ao PROCV do Excel.  "
   ]
  },
  {
   "cell_type": "code",
   "execution_count": 8,
   "metadata": {},
   "outputs": [
    {
     "data": {
      "text/html": [
       "<div>\n",
       "<style scoped>\n",
       "    .dataframe tbody tr th:only-of-type {\n",
       "        vertical-align: middle;\n",
       "    }\n",
       "\n",
       "    .dataframe tbody tr th {\n",
       "        vertical-align: top;\n",
       "    }\n",
       "\n",
       "    .dataframe thead th {\n",
       "        text-align: right;\n",
       "    }\n",
       "</style>\n",
       "<table border=\"1\" class=\"dataframe\">\n",
       "  <thead>\n",
       "    <tr style=\"text-align: right;\">\n",
       "      <th></th>\n",
       "      <th>idMunicipio</th>\n",
       "      <th>idMacroRegiao</th>\n",
       "      <th>idRegiaoSaude</th>\n",
       "      <th>descricaoMunicipio</th>\n",
       "      <th>latitude</th>\n",
       "      <th>longitude</th>\n",
       "      <th>idMacroRegiao</th>\n",
       "      <th>descricaoMacroRegiao</th>\n",
       "    </tr>\n",
       "  </thead>\n",
       "  <tbody>\n",
       "    <tr>\n",
       "      <th>0</th>\n",
       "      <td>230010</td>\n",
       "      <td>8</td>\n",
       "      <td>19</td>\n",
       "      <td>ABAIARA</td>\n",
       "      <td>-735542</td>\n",
       "      <td>-3904079</td>\n",
       "      <td>8</td>\n",
       "      <td>CARIRI</td>\n",
       "    </tr>\n",
       "    <tr>\n",
       "      <th>1</th>\n",
       "      <td>230030</td>\n",
       "      <td>8</td>\n",
       "      <td>18</td>\n",
       "      <td>ACOPIARA</td>\n",
       "      <td>-609062</td>\n",
       "      <td>-3945153</td>\n",
       "      <td>8</td>\n",
       "      <td>CARIRI</td>\n",
       "    </tr>\n",
       "    <tr>\n",
       "      <th>2</th>\n",
       "      <td>230060</td>\n",
       "      <td>8</td>\n",
       "      <td>20</td>\n",
       "      <td>ALTANEIRA</td>\n",
       "      <td>-700102</td>\n",
       "      <td>-3973774</td>\n",
       "      <td>8</td>\n",
       "      <td>CARIRI</td>\n",
       "    </tr>\n",
       "  </tbody>\n",
       "</table>\n",
       "</div>"
      ],
      "text/plain": [
       "   idMunicipio  idMacroRegiao  idRegiaoSaude descricaoMunicipio latitude  \\\n",
       "0       230010              8             19            ABAIARA  -735542   \n",
       "1       230030              8             18           ACOPIARA  -609062   \n",
       "2       230060              8             20          ALTANEIRA  -700102   \n",
       "\n",
       "  longitude  idMacroRegiao descricaoMacroRegiao  \n",
       "0  -3904079              8               CARIRI  \n",
       "1  -3945153              8               CARIRI  \n",
       "2  -3973774              8               CARIRI  "
      ]
     },
     "execution_count": 8,
     "metadata": {},
     "output_type": "execute_result"
    }
   ],
   "source": [
    "# Vamos unir a tabela de municípios com as suas respectivas macro regiões. \n",
    "municipio_macro_regiao = municipios.merge(macro_regiao, \n",
    "                               left_on='idMacroRegiao', \n",
    "                               right_on='id', \n",
    "                               suffixes=['Municipio','MacroRegiao'])\n",
    "\n",
    "municipio_macro_regiao.head(3)"
   ]
  },
  {
   "cell_type": "markdown",
   "metadata": {},
   "source": [
    "### Unir Região de Saúde"
   ]
  },
  {
   "cell_type": "code",
   "execution_count": 9,
   "metadata": {},
   "outputs": [
    {
     "data": {
      "text/html": [
       "<div>\n",
       "<style scoped>\n",
       "    .dataframe tbody tr th:only-of-type {\n",
       "        vertical-align: middle;\n",
       "    }\n",
       "\n",
       "    .dataframe tbody tr th {\n",
       "        vertical-align: top;\n",
       "    }\n",
       "\n",
       "    .dataframe thead th {\n",
       "        text-align: right;\n",
       "    }\n",
       "</style>\n",
       "<table border=\"1\" class=\"dataframe\">\n",
       "  <thead>\n",
       "    <tr style=\"text-align: right;\">\n",
       "      <th></th>\n",
       "      <th>id</th>\n",
       "      <th>idMacroRegiao</th>\n",
       "      <th>descricao</th>\n",
       "    </tr>\n",
       "  </thead>\n",
       "  <tbody>\n",
       "    <tr>\n",
       "      <th>0</th>\n",
       "      <td>1</td>\n",
       "      <td>1</td>\n",
       "      <td>1ª REGIÃO FORTALEZA</td>\n",
       "    </tr>\n",
       "    <tr>\n",
       "      <th>1</th>\n",
       "      <td>2</td>\n",
       "      <td>1</td>\n",
       "      <td>3ª REGIÃO MARACANAÚ</td>\n",
       "    </tr>\n",
       "    <tr>\n",
       "      <th>2</th>\n",
       "      <td>3</td>\n",
       "      <td>1</td>\n",
       "      <td>2ª REGIÃO CAUCAIA</td>\n",
       "    </tr>\n",
       "  </tbody>\n",
       "</table>\n",
       "</div>"
      ],
      "text/plain": [
       "   id  idMacroRegiao            descricao\n",
       "0   1              1  1ª REGIÃO FORTALEZA\n",
       "1   2              1  3ª REGIÃO MARACANAÚ\n",
       "2   3              1    2ª REGIÃO CAUCAIA"
      ]
     },
     "execution_count": 9,
     "metadata": {},
     "output_type": "execute_result"
    }
   ],
   "source": [
    "regiao_saude.head(3)"
   ]
  },
  {
   "cell_type": "code",
   "execution_count": 10,
   "metadata": {},
   "outputs": [
    {
     "data": {
      "text/html": [
       "<div>\n",
       "<style scoped>\n",
       "    .dataframe tbody tr th:only-of-type {\n",
       "        vertical-align: middle;\n",
       "    }\n",
       "\n",
       "    .dataframe tbody tr th {\n",
       "        vertical-align: top;\n",
       "    }\n",
       "\n",
       "    .dataframe thead th {\n",
       "        text-align: right;\n",
       "    }\n",
       "</style>\n",
       "<table border=\"1\" class=\"dataframe\">\n",
       "  <thead>\n",
       "    <tr style=\"text-align: right;\">\n",
       "      <th></th>\n",
       "      <th>idMunicipio</th>\n",
       "      <th>idMacroRegiao</th>\n",
       "      <th>idRegiaoSaude</th>\n",
       "      <th>descricaoMunicipio</th>\n",
       "      <th>latitude</th>\n",
       "      <th>longitude</th>\n",
       "      <th>idMacroRegiao</th>\n",
       "      <th>descricaoMacroRegiao</th>\n",
       "      <th>id</th>\n",
       "      <th>idMacroRegiaoRegiaoSaude</th>\n",
       "      <th>descricao</th>\n",
       "    </tr>\n",
       "  </thead>\n",
       "  <tbody>\n",
       "    <tr>\n",
       "      <th>0</th>\n",
       "      <td>230010</td>\n",
       "      <td>8</td>\n",
       "      <td>19</td>\n",
       "      <td>ABAIARA</td>\n",
       "      <td>-735542</td>\n",
       "      <td>-3904079</td>\n",
       "      <td>8</td>\n",
       "      <td>CARIRI</td>\n",
       "      <td>19</td>\n",
       "      <td>8</td>\n",
       "      <td>19ª REGIÃO BREJO SANTO</td>\n",
       "    </tr>\n",
       "    <tr>\n",
       "      <th>1</th>\n",
       "      <td>230170</td>\n",
       "      <td>8</td>\n",
       "      <td>19</td>\n",
       "      <td>AURORA</td>\n",
       "      <td>-693893</td>\n",
       "      <td>-3896717</td>\n",
       "      <td>8</td>\n",
       "      <td>CARIRI</td>\n",
       "      <td>19</td>\n",
       "      <td>8</td>\n",
       "      <td>19ª REGIÃO BREJO SANTO</td>\n",
       "    </tr>\n",
       "    <tr>\n",
       "      <th>2</th>\n",
       "      <td>230200</td>\n",
       "      <td>8</td>\n",
       "      <td>19</td>\n",
       "      <td>BARRO</td>\n",
       "      <td>-717277</td>\n",
       "      <td>-3877582</td>\n",
       "      <td>8</td>\n",
       "      <td>CARIRI</td>\n",
       "      <td>19</td>\n",
       "      <td>8</td>\n",
       "      <td>19ª REGIÃO BREJO SANTO</td>\n",
       "    </tr>\n",
       "  </tbody>\n",
       "</table>\n",
       "</div>"
      ],
      "text/plain": [
       "   idMunicipio  idMacroRegiao  idRegiaoSaude descricaoMunicipio latitude  \\\n",
       "0       230010              8             19            ABAIARA  -735542   \n",
       "1       230170              8             19             AURORA  -693893   \n",
       "2       230200              8             19              BARRO  -717277   \n",
       "\n",
       "  longitude  idMacroRegiao descricaoMacroRegiao  id  idMacroRegiaoRegiaoSaude  \\\n",
       "0  -3904079              8               CARIRI  19                         8   \n",
       "1  -3896717              8               CARIRI  19                         8   \n",
       "2  -3877582              8               CARIRI  19                         8   \n",
       "\n",
       "                descricao  \n",
       "0  19ª REGIÃO BREJO SANTO  \n",
       "1  19ª REGIÃO BREJO SANTO  \n",
       "2  19ª REGIÃO BREJO SANTO  "
      ]
     },
     "execution_count": 10,
     "metadata": {},
     "output_type": "execute_result"
    }
   ],
   "source": [
    "# Vamos unir a tabela de municípios com as suas respectivas macro regiões. \n",
    "municipio_macro_regiao = municipio_macro_regiao.merge(regiao_saude, \n",
    "                               left_on='idRegiaoSaude', \n",
    "                               right_on='id', suffixes=['','RegiaoSaude'])\n",
    "\n",
    "municipio_macro_regiao.head(3)"
   ]
  },
  {
   "cell_type": "code",
   "execution_count": 11,
   "metadata": {},
   "outputs": [
    {
     "data": {
      "text/html": [
       "<div>\n",
       "<style scoped>\n",
       "    .dataframe tbody tr th:only-of-type {\n",
       "        vertical-align: middle;\n",
       "    }\n",
       "\n",
       "    .dataframe tbody tr th {\n",
       "        vertical-align: top;\n",
       "    }\n",
       "\n",
       "    .dataframe thead th {\n",
       "        text-align: right;\n",
       "    }\n",
       "</style>\n",
       "<table border=\"1\" class=\"dataframe\">\n",
       "  <thead>\n",
       "    <tr style=\"text-align: right;\">\n",
       "      <th></th>\n",
       "      <th>idMunicipio</th>\n",
       "      <th>idMacroRegiao</th>\n",
       "      <th>idRegiaoSaude</th>\n",
       "      <th>descricaoMunicipio</th>\n",
       "      <th>latitude</th>\n",
       "      <th>longitude</th>\n",
       "      <th>descricaoMacroRegiao</th>\n",
       "      <th>descricao</th>\n",
       "    </tr>\n",
       "  </thead>\n",
       "  <tbody>\n",
       "    <tr>\n",
       "      <th>0</th>\n",
       "      <td>230010</td>\n",
       "      <td>8</td>\n",
       "      <td>19</td>\n",
       "      <td>ABAIARA</td>\n",
       "      <td>-735542</td>\n",
       "      <td>-3904079</td>\n",
       "      <td>CARIRI</td>\n",
       "      <td>19ª REGIÃO BREJO SANTO</td>\n",
       "    </tr>\n",
       "    <tr>\n",
       "      <th>2</th>\n",
       "      <td>230200</td>\n",
       "      <td>8</td>\n",
       "      <td>19</td>\n",
       "      <td>BARRO</td>\n",
       "      <td>-717277</td>\n",
       "      <td>-3877582</td>\n",
       "      <td>CARIRI</td>\n",
       "      <td>19ª REGIÃO BREJO SANTO</td>\n",
       "    </tr>\n",
       "    <tr>\n",
       "      <th>3</th>\n",
       "      <td>230250</td>\n",
       "      <td>8</td>\n",
       "      <td>19</td>\n",
       "      <td>BREJO SANTO</td>\n",
       "      <td>-748943</td>\n",
       "      <td>-3898571</td>\n",
       "      <td>CARIRI</td>\n",
       "      <td>19ª REGIÃO BREJO SANTO</td>\n",
       "    </tr>\n",
       "  </tbody>\n",
       "</table>\n",
       "</div>"
      ],
      "text/plain": [
       "   idMunicipio  idMacroRegiao  idRegiaoSaude descricaoMunicipio latitude  \\\n",
       "0       230010              8             19            ABAIARA  -735542   \n",
       "2       230200              8             19              BARRO  -717277   \n",
       "3       230250              8             19        BREJO SANTO  -748943   \n",
       "\n",
       "  longitude descricaoMacroRegiao               descricao  \n",
       "0  -3904079               CARIRI  19ª REGIÃO BREJO SANTO  \n",
       "2  -3877582               CARIRI  19ª REGIÃO BREJO SANTO  \n",
       "3  -3898571               CARIRI  19ª REGIÃO BREJO SANTO  "
      ]
     },
     "execution_count": 11,
     "metadata": {},
     "output_type": "execute_result"
    }
   ],
   "source": [
    "# apaga algumas colunas desnecessárias\n",
    "municipio_macro_regiao.drop(columns=['idMacroRegiaoRegiaoSaude','id'], index=1, inplace=True)\n",
    "\n",
    "# algumas colunas estão duplicadas e podem nos atrapalhar. Removendo. \n",
    "\n",
    "\n",
    "municipio_macro_regiao = municipio_macro_regiao.loc[:,~ municipio_macro_regiao.columns.duplicated()]\n",
    "municipio_macro_regiao.head(3)"
   ]
  },
  {
   "cell_type": "markdown",
   "metadata": {},
   "source": [
    "### Ajustar nomes de colunas dos municípios e regiões"
   ]
  },
  {
   "cell_type": "code",
   "execution_count": 12,
   "metadata": {},
   "outputs": [],
   "source": [
    "municipio_macro_regiao.rename(columns={\"descricao\": \"regiaoSaude\", \n",
    "                                       \"descricaoMunicipio\": \"municipio\",\n",
    "                                       \"descricaoMacroRegiao\": \"macroRegiao\",\n",
    "                                       \"latitude\":\"lat\", \n",
    "                                       \"longitude\":\"lon\"},\n",
    "                             inplace=True)"
   ]
  },
  {
   "cell_type": "code",
   "execution_count": 13,
   "metadata": {},
   "outputs": [
    {
     "data": {
      "text/plain": [
       "(183, 8)"
      ]
     },
     "execution_count": 13,
     "metadata": {},
     "output_type": "execute_result"
    }
   ],
   "source": [
    "municipio_macro_regiao.shape \n",
    "# Quantos municipios tem o Ceará? TUDO OK\n",
    "# https://www.google.com/search?q=quantos+municipios+tem+o+ceara&oq=quantos+municipios+tem+o+ceara&aqs=chrome..69i57j0l2.5808j0j7&sourceid=chrome&ie=UTF-8"
   ]
  },
  {
   "cell_type": "markdown",
   "metadata": {},
   "source": [
    "### Unir dados à Quantidade Por Município\n",
    "- Agora vamos unir os dados de municipio/macro-região aos dados de quantidades por municipio"
   ]
  },
  {
   "cell_type": "code",
   "execution_count": 14,
   "metadata": {},
   "outputs": [
    {
     "data": {
      "text/html": [
       "<div>\n",
       "<style scoped>\n",
       "    .dataframe tbody tr th:only-of-type {\n",
       "        vertical-align: middle;\n",
       "    }\n",
       "\n",
       "    .dataframe tbody tr th {\n",
       "        vertical-align: top;\n",
       "    }\n",
       "\n",
       "    .dataframe thead th {\n",
       "        text-align: right;\n",
       "    }\n",
       "</style>\n",
       "<table border=\"1\" class=\"dataframe\">\n",
       "  <thead>\n",
       "    <tr style=\"text-align: right;\">\n",
       "      <th></th>\n",
       "      <th>tipo</th>\n",
       "      <th>idMunicipio</th>\n",
       "      <th>qtdSuspeito</th>\n",
       "      <th>municipio</th>\n",
       "      <th>qtdObito</th>\n",
       "      <th>qtdConfirmado</th>\n",
       "    </tr>\n",
       "  </thead>\n",
       "  <tbody>\n",
       "    <tr>\n",
       "      <th>0</th>\n",
       "      <td>Em investigação</td>\n",
       "      <td>230010.0</td>\n",
       "      <td>4.0</td>\n",
       "      <td>ABAIARA</td>\n",
       "      <td>NaN</td>\n",
       "      <td>NaN</td>\n",
       "    </tr>\n",
       "    <tr>\n",
       "      <th>1</th>\n",
       "      <td>Em investigação</td>\n",
       "      <td>230015.0</td>\n",
       "      <td>5.0</td>\n",
       "      <td>ACARAPE</td>\n",
       "      <td>NaN</td>\n",
       "      <td>NaN</td>\n",
       "    </tr>\n",
       "    <tr>\n",
       "      <th>2</th>\n",
       "      <td>Em investigação</td>\n",
       "      <td>230020.0</td>\n",
       "      <td>28.0</td>\n",
       "      <td>ACARAU</td>\n",
       "      <td>NaN</td>\n",
       "      <td>NaN</td>\n",
       "    </tr>\n",
       "  </tbody>\n",
       "</table>\n",
       "</div>"
      ],
      "text/plain": [
       "              tipo  idMunicipio  qtdSuspeito municipio  qtdObito  \\\n",
       "0  Em investigação     230010.0          4.0   ABAIARA       NaN   \n",
       "1  Em investigação     230015.0          5.0   ACARAPE       NaN   \n",
       "2  Em investigação     230020.0         28.0    ACARAU       NaN   \n",
       "\n",
       "   qtdConfirmado  \n",
       "0            NaN  \n",
       "1            NaN  \n",
       "2            NaN  "
      ]
     },
     "execution_count": 14,
     "metadata": {},
     "output_type": "execute_result"
    }
   ],
   "source": [
    "qtd_por_municipios.head(3)"
   ]
  },
  {
   "cell_type": "code",
   "execution_count": 15,
   "metadata": {},
   "outputs": [
    {
     "data": {
      "text/plain": [
       "(258, 6)"
      ]
     },
     "execution_count": 15,
     "metadata": {},
     "output_type": "execute_result"
    }
   ],
   "source": [
    "qtd_por_municipios.shape"
   ]
  },
  {
   "cell_type": "code",
   "execution_count": 16,
   "metadata": {},
   "outputs": [
    {
     "data": {
      "text/html": [
       "<div>\n",
       "<style scoped>\n",
       "    .dataframe tbody tr th:only-of-type {\n",
       "        vertical-align: middle;\n",
       "    }\n",
       "\n",
       "    .dataframe tbody tr th {\n",
       "        vertical-align: top;\n",
       "    }\n",
       "\n",
       "    .dataframe thead th {\n",
       "        text-align: right;\n",
       "    }\n",
       "</style>\n",
       "<table border=\"1\" class=\"dataframe\">\n",
       "  <thead>\n",
       "    <tr style=\"text-align: right;\">\n",
       "      <th></th>\n",
       "      <th>tipo</th>\n",
       "      <th>idMunicipio</th>\n",
       "      <th>qtdSuspeito</th>\n",
       "      <th>municipio</th>\n",
       "      <th>qtdObito</th>\n",
       "      <th>qtdConfirmado</th>\n",
       "    </tr>\n",
       "  </thead>\n",
       "  <tbody>\n",
       "    <tr>\n",
       "      <th>175</th>\n",
       "      <td>Em investigação</td>\n",
       "      <td>NaN</td>\n",
       "      <td>2301.0</td>\n",
       "      <td>Sem informação</td>\n",
       "      <td>NaN</td>\n",
       "      <td>NaN</td>\n",
       "    </tr>\n",
       "    <tr>\n",
       "      <th>257</th>\n",
       "      <td>Confirmado</td>\n",
       "      <td>NaN</td>\n",
       "      <td>NaN</td>\n",
       "      <td>Sem informação</td>\n",
       "      <td>NaN</td>\n",
       "      <td>41.0</td>\n",
       "    </tr>\n",
       "  </tbody>\n",
       "</table>\n",
       "</div>"
      ],
      "text/plain": [
       "                tipo  idMunicipio  qtdSuspeito       municipio  qtdObito  \\\n",
       "175  Em investigação          NaN       2301.0  Sem informação       NaN   \n",
       "257       Confirmado          NaN          NaN  Sem informação       NaN   \n",
       "\n",
       "     qtdConfirmado  \n",
       "175            NaN  \n",
       "257           41.0  "
      ]
     },
     "execution_count": 16,
     "metadata": {},
     "output_type": "execute_result"
    }
   ],
   "source": [
    "qtd_por_municipios[qtd_por_municipios.idMunicipio.isna()]"
   ]
  },
  {
   "cell_type": "markdown",
   "metadata": {},
   "source": [
    "### Pergunta\n",
    "[Pergunta](https://github.com/EscolaDeSaudePublica/coronavirusAPI/issues/17#issuecomment-612133737) \n",
    " @victorMagalhaesPacheco, na API qtd-por-municipio em alguns não há informação do município. Pode explicar melhor quando isso ocorre? É realmente esperado?\n"
   ]
  },
  {
   "cell_type": "code",
   "execution_count": 17,
   "metadata": {},
   "outputs": [
    {
     "data": {
      "text/plain": [
       "(256, 6)"
      ]
     },
     "execution_count": 17,
     "metadata": {},
     "output_type": "execute_result"
    }
   ],
   "source": [
    "qtd_por_municipios = qtd_por_municipios[~qtd_por_municipios['idMunicipio'].isna()]\n",
    "qtd_por_municipios['idMunicipio'] = qtd_por_municipios['idMunicipio'].astype(int)\n",
    "qtd_por_municipios.shape"
   ]
  },
  {
   "cell_type": "code",
   "execution_count": 18,
   "metadata": {},
   "outputs": [
    {
     "data": {
      "text/html": [
       "<div>\n",
       "<style scoped>\n",
       "    .dataframe tbody tr th:only-of-type {\n",
       "        vertical-align: middle;\n",
       "    }\n",
       "\n",
       "    .dataframe tbody tr th {\n",
       "        vertical-align: top;\n",
       "    }\n",
       "\n",
       "    .dataframe thead th {\n",
       "        text-align: right;\n",
       "    }\n",
       "</style>\n",
       "<table border=\"1\" class=\"dataframe\">\n",
       "  <thead>\n",
       "    <tr style=\"text-align: right;\">\n",
       "      <th></th>\n",
       "      <th>tipo</th>\n",
       "      <th>idMunicipio</th>\n",
       "      <th>qtdSuspeito</th>\n",
       "      <th>municipio</th>\n",
       "      <th>qtdObito</th>\n",
       "      <th>qtdConfirmado</th>\n",
       "    </tr>\n",
       "  </thead>\n",
       "  <tbody>\n",
       "    <tr>\n",
       "      <th>54</th>\n",
       "      <td>Em investigação</td>\n",
       "      <td>230440</td>\n",
       "      <td>6388.0</td>\n",
       "      <td>FORTALEZA</td>\n",
       "      <td>NaN</td>\n",
       "      <td>NaN</td>\n",
       "    </tr>\n",
       "    <tr>\n",
       "      <th>182</th>\n",
       "      <td>Óbito</td>\n",
       "      <td>230440</td>\n",
       "      <td>NaN</td>\n",
       "      <td>FORTALEZA</td>\n",
       "      <td>86.0</td>\n",
       "      <td>NaN</td>\n",
       "    </tr>\n",
       "    <tr>\n",
       "      <th>211</th>\n",
       "      <td>Confirmado</td>\n",
       "      <td>230440</td>\n",
       "      <td>NaN</td>\n",
       "      <td>FORTALEZA</td>\n",
       "      <td>NaN</td>\n",
       "      <td>1846.0</td>\n",
       "    </tr>\n",
       "  </tbody>\n",
       "</table>\n",
       "</div>"
      ],
      "text/plain": [
       "                tipo  idMunicipio  qtdSuspeito  municipio  qtdObito  \\\n",
       "54   Em investigação       230440       6388.0  FORTALEZA       NaN   \n",
       "182            Óbito       230440          NaN  FORTALEZA      86.0   \n",
       "211       Confirmado       230440          NaN  FORTALEZA       NaN   \n",
       "\n",
       "     qtdConfirmado  \n",
       "54             NaN  \n",
       "182            NaN  \n",
       "211         1846.0  "
      ]
     },
     "metadata": {},
     "output_type": "display_data"
    }
   ],
   "source": [
    "fortaleza = qtd_por_municipios[qtd_por_municipios.municipio == 'FORTALEZA']\n",
    "display(fortaleza)"
   ]
  },
  {
   "cell_type": "code",
   "execution_count": 19,
   "metadata": {},
   "outputs": [
    {
     "data": {
      "text/html": [
       "<div>\n",
       "<style scoped>\n",
       "    .dataframe tbody tr th:only-of-type {\n",
       "        vertical-align: middle;\n",
       "    }\n",
       "\n",
       "    .dataframe tbody tr th {\n",
       "        vertical-align: top;\n",
       "    }\n",
       "\n",
       "    .dataframe thead th {\n",
       "        text-align: right;\n",
       "    }\n",
       "</style>\n",
       "<table border=\"1\" class=\"dataframe\">\n",
       "  <thead>\n",
       "    <tr style=\"text-align: right;\">\n",
       "      <th></th>\n",
       "      <th>qtdSuspeito</th>\n",
       "      <th>qtdObito</th>\n",
       "      <th>qtdConfirmado</th>\n",
       "    </tr>\n",
       "    <tr>\n",
       "      <th>idMunicipio</th>\n",
       "      <th></th>\n",
       "      <th></th>\n",
       "      <th></th>\n",
       "    </tr>\n",
       "  </thead>\n",
       "  <tbody>\n",
       "    <tr>\n",
       "      <th>230010</th>\n",
       "      <td>4.0</td>\n",
       "      <td>0.0</td>\n",
       "      <td>0.0</td>\n",
       "    </tr>\n",
       "    <tr>\n",
       "      <th>230015</th>\n",
       "      <td>5.0</td>\n",
       "      <td>0.0</td>\n",
       "      <td>0.0</td>\n",
       "    </tr>\n",
       "    <tr>\n",
       "      <th>230020</th>\n",
       "      <td>28.0</td>\n",
       "      <td>0.0</td>\n",
       "      <td>0.0</td>\n",
       "    </tr>\n",
       "  </tbody>\n",
       "</table>\n",
       "</div>"
      ],
      "text/plain": [
       "             qtdSuspeito  qtdObito  qtdConfirmado\n",
       "idMunicipio                                      \n",
       "230010               4.0       0.0            0.0\n",
       "230015               5.0       0.0            0.0\n",
       "230020              28.0       0.0            0.0"
      ]
     },
     "execution_count": 19,
     "metadata": {},
     "output_type": "execute_result"
    }
   ],
   "source": [
    "# Como fica apenas FORTALEZA agrupado por id do município\n",
    "qtd_por_municipios = qtd_por_municipios.groupby('idMunicipio').sum()\n",
    "qtd_por_municipios.head(3)\n"
   ]
  },
  {
   "cell_type": "code",
   "execution_count": 20,
   "metadata": {},
   "outputs": [
    {
     "data": {
      "text/html": [
       "<div>\n",
       "<style scoped>\n",
       "    .dataframe tbody tr th:only-of-type {\n",
       "        vertical-align: middle;\n",
       "    }\n",
       "\n",
       "    .dataframe tbody tr th {\n",
       "        vertical-align: top;\n",
       "    }\n",
       "\n",
       "    .dataframe thead th {\n",
       "        text-align: right;\n",
       "    }\n",
       "</style>\n",
       "<table border=\"1\" class=\"dataframe\">\n",
       "  <thead>\n",
       "    <tr style=\"text-align: right;\">\n",
       "      <th></th>\n",
       "      <th>idMunicipio</th>\n",
       "      <th>qtdSuspeito</th>\n",
       "      <th>qtdObito</th>\n",
       "      <th>qtdConfirmado</th>\n",
       "    </tr>\n",
       "  </thead>\n",
       "  <tbody>\n",
       "    <tr>\n",
       "      <th>0</th>\n",
       "      <td>230010</td>\n",
       "      <td>4.0</td>\n",
       "      <td>0.0</td>\n",
       "      <td>0.0</td>\n",
       "    </tr>\n",
       "    <tr>\n",
       "      <th>1</th>\n",
       "      <td>230015</td>\n",
       "      <td>5.0</td>\n",
       "      <td>0.0</td>\n",
       "      <td>0.0</td>\n",
       "    </tr>\n",
       "    <tr>\n",
       "      <th>2</th>\n",
       "      <td>230020</td>\n",
       "      <td>28.0</td>\n",
       "      <td>0.0</td>\n",
       "      <td>0.0</td>\n",
       "    </tr>\n",
       "  </tbody>\n",
       "</table>\n",
       "</div>"
      ],
      "text/plain": [
       "   idMunicipio  qtdSuspeito  qtdObito  qtdConfirmado\n",
       "0       230010          4.0       0.0            0.0\n",
       "1       230015          5.0       0.0            0.0\n",
       "2       230020         28.0       0.0            0.0"
      ]
     },
     "metadata": {},
     "output_type": "display_data"
    }
   ],
   "source": [
    "qtd_por_municipios.reset_index(inplace=True)\n",
    "display(qtd_por_municipios.head(3))"
   ]
  },
  {
   "cell_type": "code",
   "execution_count": 21,
   "metadata": {},
   "outputs": [
    {
     "data": {
      "text/html": [
       "<div>\n",
       "<style scoped>\n",
       "    .dataframe tbody tr th:only-of-type {\n",
       "        vertical-align: middle;\n",
       "    }\n",
       "\n",
       "    .dataframe tbody tr th {\n",
       "        vertical-align: top;\n",
       "    }\n",
       "\n",
       "    .dataframe thead th {\n",
       "        text-align: right;\n",
       "    }\n",
       "</style>\n",
       "<table border=\"1\" class=\"dataframe\">\n",
       "  <thead>\n",
       "    <tr style=\"text-align: right;\">\n",
       "      <th></th>\n",
       "      <th>idMunicipio</th>\n",
       "      <th>qtdSuspeito</th>\n",
       "      <th>qtdObito</th>\n",
       "      <th>qtdConfirmado</th>\n",
       "    </tr>\n",
       "  </thead>\n",
       "  <tbody>\n",
       "    <tr>\n",
       "      <th>54</th>\n",
       "      <td>230440</td>\n",
       "      <td>6388.0</td>\n",
       "      <td>86.0</td>\n",
       "      <td>1846.0</td>\n",
       "    </tr>\n",
       "  </tbody>\n",
       "</table>\n",
       "</div>"
      ],
      "text/plain": [
       "    idMunicipio  qtdSuspeito  qtdObito  qtdConfirmado\n",
       "54       230440       6388.0      86.0         1846.0"
      ]
     },
     "execution_count": 21,
     "metadata": {},
     "output_type": "execute_result"
    }
   ],
   "source": [
    "qtd_por_municipios[qtd_por_municipios.idMunicipio == 230440]"
   ]
  },
  {
   "cell_type": "code",
   "execution_count": 22,
   "metadata": {},
   "outputs": [
    {
     "data": {
      "text/html": [
       "<div>\n",
       "<style scoped>\n",
       "    .dataframe tbody tr th:only-of-type {\n",
       "        vertical-align: middle;\n",
       "    }\n",
       "\n",
       "    .dataframe tbody tr th {\n",
       "        vertical-align: top;\n",
       "    }\n",
       "\n",
       "    .dataframe thead th {\n",
       "        text-align: right;\n",
       "    }\n",
       "</style>\n",
       "<table border=\"1\" class=\"dataframe\">\n",
       "  <thead>\n",
       "    <tr style=\"text-align: right;\">\n",
       "      <th></th>\n",
       "      <th>idMunicipio</th>\n",
       "      <th>idMacroRegiao</th>\n",
       "      <th>idRegiaoSaude</th>\n",
       "      <th>municipio</th>\n",
       "      <th>lat</th>\n",
       "      <th>lon</th>\n",
       "      <th>macroRegiao</th>\n",
       "      <th>regiaoSaude</th>\n",
       "    </tr>\n",
       "  </thead>\n",
       "  <tbody>\n",
       "    <tr>\n",
       "      <th>0</th>\n",
       "      <td>230010</td>\n",
       "      <td>8</td>\n",
       "      <td>19</td>\n",
       "      <td>ABAIARA</td>\n",
       "      <td>-735542</td>\n",
       "      <td>-3904079</td>\n",
       "      <td>CARIRI</td>\n",
       "      <td>19ª REGIÃO BREJO SANTO</td>\n",
       "    </tr>\n",
       "  </tbody>\n",
       "</table>\n",
       "</div>"
      ],
      "text/plain": [
       "   idMunicipio  idMacroRegiao  idRegiaoSaude municipio      lat       lon  \\\n",
       "0       230010              8             19   ABAIARA  -735542  -3904079   \n",
       "\n",
       "  macroRegiao             regiaoSaude  \n",
       "0      CARIRI  19ª REGIÃO BREJO SANTO  "
      ]
     },
     "execution_count": 22,
     "metadata": {},
     "output_type": "execute_result"
    }
   ],
   "source": [
    "municipio_macro_regiao.head(1)"
   ]
  },
  {
   "cell_type": "code",
   "execution_count": 23,
   "metadata": {},
   "outputs": [
    {
     "data": {
      "text/html": [
       "<div>\n",
       "<style scoped>\n",
       "    .dataframe tbody tr th:only-of-type {\n",
       "        vertical-align: middle;\n",
       "    }\n",
       "\n",
       "    .dataframe tbody tr th {\n",
       "        vertical-align: top;\n",
       "    }\n",
       "\n",
       "    .dataframe thead th {\n",
       "        text-align: right;\n",
       "    }\n",
       "</style>\n",
       "<table border=\"1\" class=\"dataframe\">\n",
       "  <thead>\n",
       "    <tr style=\"text-align: right;\">\n",
       "      <th></th>\n",
       "      <th>idMunicipio</th>\n",
       "      <th>idMacroRegiao</th>\n",
       "      <th>idRegiaoSaude</th>\n",
       "      <th>municipio</th>\n",
       "      <th>lat</th>\n",
       "      <th>lon</th>\n",
       "      <th>macroRegiao</th>\n",
       "      <th>regiaoSaude</th>\n",
       "      <th>qtdSuspeito</th>\n",
       "      <th>qtdObito</th>\n",
       "      <th>qtdConfirmado</th>\n",
       "    </tr>\n",
       "  </thead>\n",
       "  <tbody>\n",
       "    <tr>\n",
       "      <th>0</th>\n",
       "      <td>230010</td>\n",
       "      <td>8</td>\n",
       "      <td>19</td>\n",
       "      <td>ABAIARA</td>\n",
       "      <td>-735542</td>\n",
       "      <td>-3904079</td>\n",
       "      <td>CARIRI</td>\n",
       "      <td>19ª REGIÃO BREJO SANTO</td>\n",
       "      <td>4.0</td>\n",
       "      <td>0.0</td>\n",
       "      <td>0.0</td>\n",
       "    </tr>\n",
       "    <tr>\n",
       "      <th>1</th>\n",
       "      <td>230200</td>\n",
       "      <td>8</td>\n",
       "      <td>19</td>\n",
       "      <td>BARRO</td>\n",
       "      <td>-717277</td>\n",
       "      <td>-3877582</td>\n",
       "      <td>CARIRI</td>\n",
       "      <td>19ª REGIÃO BREJO SANTO</td>\n",
       "      <td>5.0</td>\n",
       "      <td>0.0</td>\n",
       "      <td>0.0</td>\n",
       "    </tr>\n",
       "    <tr>\n",
       "      <th>2</th>\n",
       "      <td>230250</td>\n",
       "      <td>8</td>\n",
       "      <td>19</td>\n",
       "      <td>BREJO SANTO</td>\n",
       "      <td>-748943</td>\n",
       "      <td>-3898571</td>\n",
       "      <td>CARIRI</td>\n",
       "      <td>19ª REGIÃO BREJO SANTO</td>\n",
       "      <td>6.0</td>\n",
       "      <td>0.0</td>\n",
       "      <td>0.0</td>\n",
       "    </tr>\n",
       "  </tbody>\n",
       "</table>\n",
       "</div>"
      ],
      "text/plain": [
       "   idMunicipio  idMacroRegiao  idRegiaoSaude    municipio      lat       lon  \\\n",
       "0       230010              8             19      ABAIARA  -735542  -3904079   \n",
       "1       230200              8             19        BARRO  -717277  -3877582   \n",
       "2       230250              8             19  BREJO SANTO  -748943  -3898571   \n",
       "\n",
       "  macroRegiao             regiaoSaude  qtdSuspeito  qtdObito  qtdConfirmado  \n",
       "0      CARIRI  19ª REGIÃO BREJO SANTO          4.0       0.0            0.0  \n",
       "1      CARIRI  19ª REGIÃO BREJO SANTO          5.0       0.0            0.0  \n",
       "2      CARIRI  19ª REGIÃO BREJO SANTO          6.0       0.0            0.0  "
      ]
     },
     "execution_count": 23,
     "metadata": {},
     "output_type": "execute_result"
    }
   ],
   "source": [
    "df_parcial  = municipio_macro_regiao.merge(qtd_por_municipios, on='idMunicipio')\n",
    "df_parcial.head(3)"
   ]
  },
  {
   "cell_type": "code",
   "execution_count": 24,
   "metadata": {},
   "outputs": [
    {
     "data": {
      "text/plain": [
       "(174, 11)"
      ]
     },
     "execution_count": 24,
     "metadata": {},
     "output_type": "execute_result"
    }
   ],
   "source": [
    "df_parcial.shape"
   ]
  },
  {
   "cell_type": "code",
   "execution_count": 25,
   "metadata": {},
   "outputs": [],
   "source": [
    "# Padronizar as latitudes / longitudes. \n",
    "# atualmente os dados estão em formato string (texto) e o valor não é um decimal válido. \n",
    "\n",
    "# Convertendo de texto (str) para numérico (int)\n",
    "df_parcial['lat'] = df_parcial['lat'].astype(int)\n",
    "df_parcial['lon'] = df_parcial['lon'].astype(int)\n",
    "\n",
    "# utilizando formato mais comum de sistemas geográficos (decimal): dividindo por 10000\n",
    "df_parcial['lat'] = df_parcial['lat'] /100000\n",
    "df_parcial['lon'] = df_parcial['lon'] /100000"
   ]
  },
  {
   "cell_type": "code",
   "execution_count": 26,
   "metadata": {},
   "outputs": [
    {
     "data": {
      "text/html": [
       "<div>\n",
       "<style scoped>\n",
       "    .dataframe tbody tr th:only-of-type {\n",
       "        vertical-align: middle;\n",
       "    }\n",
       "\n",
       "    .dataframe tbody tr th {\n",
       "        vertical-align: top;\n",
       "    }\n",
       "\n",
       "    .dataframe thead th {\n",
       "        text-align: right;\n",
       "    }\n",
       "</style>\n",
       "<table border=\"1\" class=\"dataframe\">\n",
       "  <thead>\n",
       "    <tr style=\"text-align: right;\">\n",
       "      <th></th>\n",
       "      <th>idMunicipio</th>\n",
       "      <th>idMacroRegiao</th>\n",
       "      <th>idRegiaoSaude</th>\n",
       "      <th>municipio</th>\n",
       "      <th>lat</th>\n",
       "      <th>lon</th>\n",
       "      <th>macroRegiao</th>\n",
       "      <th>regiaoSaude</th>\n",
       "      <th>qtdSuspeito</th>\n",
       "      <th>qtdObito</th>\n",
       "      <th>qtdConfirmado</th>\n",
       "    </tr>\n",
       "  </thead>\n",
       "  <tbody>\n",
       "    <tr>\n",
       "      <th>0</th>\n",
       "      <td>230010</td>\n",
       "      <td>8</td>\n",
       "      <td>19</td>\n",
       "      <td>ABAIARA</td>\n",
       "      <td>-7.35542</td>\n",
       "      <td>-39.04079</td>\n",
       "      <td>CARIRI</td>\n",
       "      <td>19ª REGIÃO BREJO SANTO</td>\n",
       "      <td>4.0</td>\n",
       "      <td>0.0</td>\n",
       "      <td>0.0</td>\n",
       "    </tr>\n",
       "    <tr>\n",
       "      <th>1</th>\n",
       "      <td>230200</td>\n",
       "      <td>8</td>\n",
       "      <td>19</td>\n",
       "      <td>BARRO</td>\n",
       "      <td>-7.17277</td>\n",
       "      <td>-38.77582</td>\n",
       "      <td>CARIRI</td>\n",
       "      <td>19ª REGIÃO BREJO SANTO</td>\n",
       "      <td>5.0</td>\n",
       "      <td>0.0</td>\n",
       "      <td>0.0</td>\n",
       "    </tr>\n",
       "    <tr>\n",
       "      <th>2</th>\n",
       "      <td>230250</td>\n",
       "      <td>8</td>\n",
       "      <td>19</td>\n",
       "      <td>BREJO SANTO</td>\n",
       "      <td>-7.48943</td>\n",
       "      <td>-38.98571</td>\n",
       "      <td>CARIRI</td>\n",
       "      <td>19ª REGIÃO BREJO SANTO</td>\n",
       "      <td>6.0</td>\n",
       "      <td>0.0</td>\n",
       "      <td>0.0</td>\n",
       "    </tr>\n",
       "  </tbody>\n",
       "</table>\n",
       "</div>"
      ],
      "text/plain": [
       "   idMunicipio  idMacroRegiao  idRegiaoSaude    municipio      lat       lon  \\\n",
       "0       230010              8             19      ABAIARA -7.35542 -39.04079   \n",
       "1       230200              8             19        BARRO -7.17277 -38.77582   \n",
       "2       230250              8             19  BREJO SANTO -7.48943 -38.98571   \n",
       "\n",
       "  macroRegiao             regiaoSaude  qtdSuspeito  qtdObito  qtdConfirmado  \n",
       "0      CARIRI  19ª REGIÃO BREJO SANTO          4.0       0.0            0.0  \n",
       "1      CARIRI  19ª REGIÃO BREJO SANTO          5.0       0.0            0.0  \n",
       "2      CARIRI  19ª REGIÃO BREJO SANTO          6.0       0.0            0.0  "
      ]
     },
     "execution_count": 26,
     "metadata": {},
     "output_type": "execute_result"
    }
   ],
   "source": [
    "df_parcial.head(3)"
   ]
  },
  {
   "cell_type": "markdown",
   "metadata": {},
   "source": [
    "#### Como estão apresentados os dados de Fortaleza? "
   ]
  },
  {
   "cell_type": "code",
   "execution_count": 27,
   "metadata": {},
   "outputs": [
    {
     "data": {
      "text/html": [
       "<div>\n",
       "<style scoped>\n",
       "    .dataframe tbody tr th:only-of-type {\n",
       "        vertical-align: middle;\n",
       "    }\n",
       "\n",
       "    .dataframe tbody tr th {\n",
       "        vertical-align: top;\n",
       "    }\n",
       "\n",
       "    .dataframe thead th {\n",
       "        text-align: right;\n",
       "    }\n",
       "</style>\n",
       "<table border=\"1\" class=\"dataframe\">\n",
       "  <thead>\n",
       "    <tr style=\"text-align: right;\">\n",
       "      <th></th>\n",
       "      <th>idMunicipio</th>\n",
       "      <th>idMacroRegiao</th>\n",
       "      <th>idRegiaoSaude</th>\n",
       "      <th>municipio</th>\n",
       "      <th>lat</th>\n",
       "      <th>lon</th>\n",
       "      <th>macroRegiao</th>\n",
       "      <th>regiaoSaude</th>\n",
       "      <th>qtdSuspeito</th>\n",
       "      <th>qtdObito</th>\n",
       "      <th>qtdConfirmado</th>\n",
       "    </tr>\n",
       "  </thead>\n",
       "  <tbody>\n",
       "    <tr>\n",
       "      <th>67</th>\n",
       "      <td>230440</td>\n",
       "      <td>1</td>\n",
       "      <td>1</td>\n",
       "      <td>FORTALEZA</td>\n",
       "      <td>-3.71701</td>\n",
       "      <td>-38.53926</td>\n",
       "      <td>FORTALEZA</td>\n",
       "      <td>1ª REGIÃO FORTALEZA</td>\n",
       "      <td>6388.0</td>\n",
       "      <td>86.0</td>\n",
       "      <td>1846.0</td>\n",
       "    </tr>\n",
       "  </tbody>\n",
       "</table>\n",
       "</div>"
      ],
      "text/plain": [
       "    idMunicipio  idMacroRegiao  idRegiaoSaude  municipio      lat       lon  \\\n",
       "67       230440              1              1  FORTALEZA -3.71701 -38.53926   \n",
       "\n",
       "   macroRegiao          regiaoSaude  qtdSuspeito  qtdObito  qtdConfirmado  \n",
       "67   FORTALEZA  1ª REGIÃO FORTALEZA       6388.0      86.0         1846.0  "
      ]
     },
     "execution_count": 27,
     "metadata": {},
     "output_type": "execute_result"
    }
   ],
   "source": [
    "df_parcial[df_parcial.municipio == 'FORTALEZA']"
   ]
  },
  {
   "cell_type": "markdown",
   "metadata": {},
   "source": [
    "### Informações Por Sexo e Faixa Etária"
   ]
  },
  {
   "cell_type": "code",
   "execution_count": 28,
   "metadata": {},
   "outputs": [],
   "source": [
    "## TODO\n",
    "# /api/coronavirus/qtd-por-faixa-etaria-sexo?data=2020-04-09&tipo=Confirmado&idMunicipio="
   ]
  },
  {
   "cell_type": "markdown",
   "metadata": {},
   "source": [
    "### Obter Contagens Por Dia\n",
    "\n",
    "Liberaram uma API muito boa que dá o resultado por dia, mas um problema é que não temos a identificação do município no retorno. \n",
    "Contudo, como posso passar o município como parâmetro para a API, irei utilizado para iterar na lista de municípios, realizar uma consulta específica por município e unir os dados. \n",
    "Observer que ficou bem mais fácil que o código complexo acima que está comentado. "
   ]
  },
  {
   "cell_type": "code",
   "execution_count": 29,
   "metadata": {},
   "outputs": [],
   "source": [
    "api_endpoint = \"https://indicadores.integrasus.saude.ce.gov.br/api/coronavirus/qtd-por-dia-tipo\"\n",
    "\n",
    "qtd_por_dia_municipio = [get_dataframe(api_endpoint, id_municipio=idm) for idm in municipios.id]\n"
   ]
  },
  {
   "cell_type": "code",
   "execution_count": 30,
   "metadata": {},
   "outputs": [],
   "source": [
    "api_endpoint = \"https://indicadores.integrasus.saude.ce.gov.br/api/coronavirus/qtd-por-dia-tipo\"\n",
    "\n",
    "qtd_por_dia = pd.concat(qtd_por_dia_municipio, axis=0, ignore_index=True, sort=True)\n",
    "\n",
    "qtd_por_dia['data'] = pd.to_datetime(qtd_por_dia['data'], format='%d/%m/%Y')\n",
    "qtd_por_dia.head(3)\n",
    "qtd_por_dia.sort_values(['data','idMunicipio'], inplace=True)"
   ]
  },
  {
   "cell_type": "code",
   "execution_count": 31,
   "metadata": {},
   "outputs": [
    {
     "data": {
      "text/plain": [
       "'Menor data 2020-01-08 00:00:00 e maior data 2020-09-11 00:00:00'"
      ]
     },
     "metadata": {},
     "output_type": "display_data"
    },
    {
     "data": {
      "text/plain": [
       "'Quantidade de municípios com código vazio: 0'"
      ]
     },
     "metadata": {},
     "output_type": "display_data"
    },
    {
     "data": {
      "text/html": [
       "<div>\n",
       "<style scoped>\n",
       "    .dataframe tbody tr th:only-of-type {\n",
       "        vertical-align: middle;\n",
       "    }\n",
       "\n",
       "    .dataframe tbody tr th {\n",
       "        vertical-align: top;\n",
       "    }\n",
       "\n",
       "    .dataframe thead th {\n",
       "        text-align: right;\n",
       "    }\n",
       "</style>\n",
       "<table border=\"1\" class=\"dataframe\">\n",
       "  <thead>\n",
       "    <tr style=\"text-align: right;\">\n",
       "      <th></th>\n",
       "      <th>data</th>\n",
       "      <th>idMunicipio</th>\n",
       "      <th>quantidade</th>\n",
       "      <th>tipo</th>\n",
       "    </tr>\n",
       "  </thead>\n",
       "  <tbody>\n",
       "    <tr>\n",
       "      <th>914</th>\n",
       "      <td>2020-01-08</td>\n",
       "      <td>230765</td>\n",
       "      <td>1.0</td>\n",
       "      <td>Em investigação</td>\n",
       "    </tr>\n",
       "    <tr>\n",
       "      <th>871</th>\n",
       "      <td>2020-01-14</td>\n",
       "      <td>230740</td>\n",
       "      <td>1.0</td>\n",
       "      <td>Em investigação</td>\n",
       "    </tr>\n",
       "    <tr>\n",
       "      <th>1114</th>\n",
       "      <td>2020-01-26</td>\n",
       "      <td>230970</td>\n",
       "      <td>1.0</td>\n",
       "      <td>Em investigação</td>\n",
       "    </tr>\n",
       "    <tr>\n",
       "      <th>467</th>\n",
       "      <td>2020-01-27</td>\n",
       "      <td>230440</td>\n",
       "      <td>1.0</td>\n",
       "      <td>Em investigação</td>\n",
       "    </tr>\n",
       "    <tr>\n",
       "      <th>385</th>\n",
       "      <td>2020-02-07</td>\n",
       "      <td>230420</td>\n",
       "      <td>1.0</td>\n",
       "      <td>Em investigação</td>\n",
       "    </tr>\n",
       "  </tbody>\n",
       "</table>\n",
       "</div>"
      ],
      "text/plain": [
       "           data  idMunicipio  quantidade             tipo\n",
       "914  2020-01-08       230765         1.0  Em investigação\n",
       "871  2020-01-14       230740         1.0  Em investigação\n",
       "1114 2020-01-26       230970         1.0  Em investigação\n",
       "467  2020-01-27       230440         1.0  Em investigação\n",
       "385  2020-02-07       230420         1.0  Em investigação"
      ]
     },
     "metadata": {},
     "output_type": "display_data"
    }
   ],
   "source": [
    "display(\"Menor data {} e maior data {}\".format(qtd_por_dia.data.min(), qtd_por_dia.data.max()))\n",
    "display(\"Quantidade de municípios com código vazio: {}\".format(qtd_por_dia[qtd_por_dia.idMunicipio.isna()].shape[0]))\n",
    "display(qtd_por_dia.head(5))"
   ]
  },
  {
   "cell_type": "markdown",
   "metadata": {},
   "source": [
    "### Inconsistência: Dados de 2019 e no futuro \n",
    "Inconsistência na informação: dados de Março de 2019 e Agosto de 2020.  \n",
    "Reportado em: https://github.com/EscolaDeSaudePublica/coronavirusAPI/issues/17#issuecomment-612434411"
   ]
  },
  {
   "cell_type": "markdown",
   "metadata": {},
   "source": [
    "### Limpeza de dados inconsistentes"
   ]
  },
  {
   "cell_type": "code",
   "execution_count": 32,
   "metadata": {},
   "outputs": [
    {
     "data": {
      "text/plain": [
       "(1493, 4)"
      ]
     },
     "metadata": {},
     "output_type": "display_data"
    },
    {
     "data": {
      "text/plain": [
       "(1486, 4)"
      ]
     },
     "metadata": {},
     "output_type": "display_data"
    }
   ],
   "source": [
    "display(qtd_por_dia.shape)\n",
    "inicio = datetime(year=2020,month=2, day=1)\n",
    "fim    = datetime.today()\n",
    "qtd_por_dia = qtd_por_dia[(qtd_por_dia['data'] > inicio) & (qtd_por_dia['data'] <= fim)]\n",
    "\n",
    "display(qtd_por_dia.shape)"
   ]
  },
  {
   "cell_type": "code",
   "execution_count": 33,
   "metadata": {},
   "outputs": [],
   "source": [
    "# fig = px.bar(qtd_por_dia, x=\"data\", y=\"quantidade\", color='tipo', barmode='group')\n",
    "# fig.show()"
   ]
  },
  {
   "cell_type": "code",
   "execution_count": 34,
   "metadata": {},
   "outputs": [],
   "source": [
    "# qtd_por_dia['log_quantidade'] = np.log(qtd_por_dia.quantidade)\n",
    "# fig = px.bar(qtd_por_dia, x=\"data\", y=\"log_quantidade\", color='tipo', barmode='group')\n",
    "# fig.show()"
   ]
  },
  {
   "cell_type": "code",
   "execution_count": 35,
   "metadata": {},
   "outputs": [],
   "source": [
    "qtd_por_dia = municipio_macro_regiao.merge(qtd_por_dia, on='idMunicipio')"
   ]
  },
  {
   "cell_type": "code",
   "execution_count": 36,
   "metadata": {},
   "outputs": [
    {
     "data": {
      "text/plain": [
       "(1481, 11)"
      ]
     },
     "metadata": {},
     "output_type": "display_data"
    },
    {
     "data": {
      "text/html": [
       "<div>\n",
       "<style scoped>\n",
       "    .dataframe tbody tr th:only-of-type {\n",
       "        vertical-align: middle;\n",
       "    }\n",
       "\n",
       "    .dataframe tbody tr th {\n",
       "        vertical-align: top;\n",
       "    }\n",
       "\n",
       "    .dataframe thead th {\n",
       "        text-align: right;\n",
       "    }\n",
       "</style>\n",
       "<table border=\"1\" class=\"dataframe\">\n",
       "  <thead>\n",
       "    <tr style=\"text-align: right;\">\n",
       "      <th></th>\n",
       "      <th>idMunicipio</th>\n",
       "      <th>idMacroRegiao</th>\n",
       "      <th>idRegiaoSaude</th>\n",
       "      <th>municipio</th>\n",
       "      <th>lat</th>\n",
       "      <th>lon</th>\n",
       "      <th>macroRegiao</th>\n",
       "      <th>regiaoSaude</th>\n",
       "      <th>data</th>\n",
       "      <th>quantidade</th>\n",
       "      <th>tipo</th>\n",
       "    </tr>\n",
       "  </thead>\n",
       "  <tbody>\n",
       "    <tr>\n",
       "      <th>0</th>\n",
       "      <td>230010</td>\n",
       "      <td>8</td>\n",
       "      <td>19</td>\n",
       "      <td>ABAIARA</td>\n",
       "      <td>-735542</td>\n",
       "      <td>-3904079</td>\n",
       "      <td>CARIRI</td>\n",
       "      <td>19ª REGIÃO BREJO SANTO</td>\n",
       "      <td>2020-03-20</td>\n",
       "      <td>1.0</td>\n",
       "      <td>Em investigação</td>\n",
       "    </tr>\n",
       "    <tr>\n",
       "      <th>1</th>\n",
       "      <td>230010</td>\n",
       "      <td>8</td>\n",
       "      <td>19</td>\n",
       "      <td>ABAIARA</td>\n",
       "      <td>-735542</td>\n",
       "      <td>-3904079</td>\n",
       "      <td>CARIRI</td>\n",
       "      <td>19ª REGIÃO BREJO SANTO</td>\n",
       "      <td>2020-03-29</td>\n",
       "      <td>1.0</td>\n",
       "      <td>Em investigação</td>\n",
       "    </tr>\n",
       "    <tr>\n",
       "      <th>2</th>\n",
       "      <td>230010</td>\n",
       "      <td>8</td>\n",
       "      <td>19</td>\n",
       "      <td>ABAIARA</td>\n",
       "      <td>-735542</td>\n",
       "      <td>-3904079</td>\n",
       "      <td>CARIRI</td>\n",
       "      <td>19ª REGIÃO BREJO SANTO</td>\n",
       "      <td>2020-04-02</td>\n",
       "      <td>1.0</td>\n",
       "      <td>Em investigação</td>\n",
       "    </tr>\n",
       "  </tbody>\n",
       "</table>\n",
       "</div>"
      ],
      "text/plain": [
       "   idMunicipio  idMacroRegiao  idRegiaoSaude municipio      lat       lon  \\\n",
       "0       230010              8             19   ABAIARA  -735542  -3904079   \n",
       "1       230010              8             19   ABAIARA  -735542  -3904079   \n",
       "2       230010              8             19   ABAIARA  -735542  -3904079   \n",
       "\n",
       "  macroRegiao             regiaoSaude       data  quantidade             tipo  \n",
       "0      CARIRI  19ª REGIÃO BREJO SANTO 2020-03-20         1.0  Em investigação  \n",
       "1      CARIRI  19ª REGIÃO BREJO SANTO 2020-03-29         1.0  Em investigação  \n",
       "2      CARIRI  19ª REGIÃO BREJO SANTO 2020-04-02         1.0  Em investigação  "
      ]
     },
     "metadata": {},
     "output_type": "display_data"
    }
   ],
   "source": [
    "display(qtd_por_dia.shape)\n",
    "display(qtd_por_dia.head(3))"
   ]
  },
  {
   "cell_type": "markdown",
   "metadata": {},
   "source": [
    "### Número de Exames Por Dia"
   ]
  },
  {
   "cell_type": "code",
   "execution_count": 37,
   "metadata": {},
   "outputs": [
    {
     "data": {
      "text/html": [
       "<div>\n",
       "<style scoped>\n",
       "    .dataframe tbody tr th:only-of-type {\n",
       "        vertical-align: middle;\n",
       "    }\n",
       "\n",
       "    .dataframe tbody tr th {\n",
       "        vertical-align: top;\n",
       "    }\n",
       "\n",
       "    .dataframe thead th {\n",
       "        text-align: right;\n",
       "    }\n",
       "</style>\n",
       "<table border=\"1\" class=\"dataframe\">\n",
       "  <thead>\n",
       "    <tr style=\"text-align: right;\">\n",
       "      <th></th>\n",
       "      <th>id</th>\n",
       "      <th>data</th>\n",
       "    </tr>\n",
       "  </thead>\n",
       "  <tbody>\n",
       "    <tr>\n",
       "      <th>0</th>\n",
       "      <td>1</td>\n",
       "      <td>2020-02-07</td>\n",
       "    </tr>\n",
       "    <tr>\n",
       "      <th>1</th>\n",
       "      <td>1</td>\n",
       "      <td>2020-02-08</td>\n",
       "    </tr>\n",
       "    <tr>\n",
       "      <th>2</th>\n",
       "      <td>1</td>\n",
       "      <td>2020-02-09</td>\n",
       "    </tr>\n",
       "  </tbody>\n",
       "</table>\n",
       "</div>"
      ],
      "text/plain": [
       "   id       data\n",
       "0   1 2020-02-07\n",
       "1   1 2020-02-08\n",
       "2   1 2020-02-09"
      ]
     },
     "execution_count": 37,
     "metadata": {},
     "output_type": "execute_result"
    }
   ],
   "source": [
    "### Cria dataframe com todos os dias desde o mínimo registro até hoje\n",
    "df_dia = qtd_por_dia\n",
    "start = df_dia.data.min()\n",
    "end   = df_dia.data.max()\n",
    "delta = end - start\n",
    "add_days = lambda i: (start + timedelta(days=i))#.strftime('%Y-%m-%d')\n",
    "\n",
    "all_times = [[1, add_days(i)] for i in range(delta.days + 1) ]\n",
    "all_times = pd.DataFrame(all_times, columns = ['id','data']) \n",
    "all_times.head(3)"
   ]
  },
  {
   "cell_type": "code",
   "execution_count": 38,
   "metadata": {},
   "outputs": [],
   "source": [
    "# api_endpoint = \"https://indicadores.integrasus.saude.ce.gov.br/api/coronavirus/qtd-exames\"\n",
    "\n",
    "# result = [get_dataframe(api_endpoint, \n",
    "#                   id_municipio=idm, \n",
    "#                   data=data) \n",
    "#         for idm in municipios.id \n",
    "#             for data in all_times.data.dt.strftime('%Y-%m-%d')\n",
    "#    ]\n",
    "# result"
   ]
  },
  {
   "cell_type": "code",
   "execution_count": 39,
   "metadata": {},
   "outputs": [],
   "source": [
    "# result = pd.concat(result)"
   ]
  },
  {
   "cell_type": "code",
   "execution_count": 40,
   "metadata": {},
   "outputs": [],
   "source": [
    "# datas = [data for idm in municipios.id for data in all_times.data.dt.strftime('%Y-%m-%d')]"
   ]
  },
  {
   "cell_type": "code",
   "execution_count": 41,
   "metadata": {},
   "outputs": [],
   "source": [
    "# result['data'] = datas"
   ]
  },
  {
   "cell_type": "code",
   "execution_count": 42,
   "metadata": {},
   "outputs": [],
   "source": [
    "# result.groupby('idMunicipio').max()"
   ]
  },
  {
   "cell_type": "markdown",
   "metadata": {},
   "source": [
    "### Criar coluna com dados cumulativos "
   ]
  },
  {
   "cell_type": "code",
   "execution_count": 43,
   "metadata": {},
   "outputs": [
    {
     "data": {
      "text/html": [
       "<div>\n",
       "<style scoped>\n",
       "    .dataframe tbody tr th:only-of-type {\n",
       "        vertical-align: middle;\n",
       "    }\n",
       "\n",
       "    .dataframe tbody tr th {\n",
       "        vertical-align: top;\n",
       "    }\n",
       "\n",
       "    .dataframe thead th {\n",
       "        text-align: right;\n",
       "    }\n",
       "</style>\n",
       "<table border=\"1\" class=\"dataframe\">\n",
       "  <thead>\n",
       "    <tr style=\"text-align: right;\">\n",
       "      <th></th>\n",
       "      <th>idMunicipio</th>\n",
       "      <th>tipo</th>\n",
       "      <th>quantidadeExame</th>\n",
       "    </tr>\n",
       "  </thead>\n",
       "  <tbody>\n",
       "    <tr>\n",
       "      <th>0</th>\n",
       "      <td>230440</td>\n",
       "      <td>QtdExame</td>\n",
       "      <td>7302</td>\n",
       "    </tr>\n",
       "  </tbody>\n",
       "</table>\n",
       "</div>"
      ],
      "text/plain": [
       "   idMunicipio      tipo  quantidadeExame\n",
       "0       230440  QtdExame             7302"
      ]
     },
     "execution_count": 43,
     "metadata": {},
     "output_type": "execute_result"
    }
   ],
   "source": [
    "municipio_data = qtd_por_dia\n",
    "# qtd_por_dia['exames'] = qtd_por_dia.apply()\n",
    "get_dataframe(\"https://indicadores.integrasus.saude.ce.gov.br/api/coronavirus/qtd-exames\", \n",
    "              data='2020-04-07', \n",
    "              id_municipio=230440)"
   ]
  },
  {
   "cell_type": "code",
   "execution_count": 44,
   "metadata": {},
   "outputs": [
    {
     "data": {
      "text/html": [
       "<div>\n",
       "<style scoped>\n",
       "    .dataframe tbody tr th:only-of-type {\n",
       "        vertical-align: middle;\n",
       "    }\n",
       "\n",
       "    .dataframe tbody tr th {\n",
       "        vertical-align: top;\n",
       "    }\n",
       "\n",
       "    .dataframe thead th {\n",
       "        text-align: right;\n",
       "    }\n",
       "</style>\n",
       "<table border=\"1\" class=\"dataframe\">\n",
       "  <thead>\n",
       "    <tr style=\"text-align: right;\">\n",
       "      <th></th>\n",
       "      <th>data</th>\n",
       "      <th>municipio</th>\n",
       "      <th>macroRegiao</th>\n",
       "      <th>regiaoSaude</th>\n",
       "    </tr>\n",
       "  </thead>\n",
       "  <tbody>\n",
       "    <tr>\n",
       "      <th>0</th>\n",
       "      <td>2020-02-07</td>\n",
       "      <td>ABAIARA</td>\n",
       "      <td>CARIRI</td>\n",
       "      <td>19ª REGIÃO BREJO SANTO</td>\n",
       "    </tr>\n",
       "    <tr>\n",
       "      <th>41</th>\n",
       "      <td>2020-02-07</td>\n",
       "      <td>ACARAPE</td>\n",
       "      <td>FORTALEZA</td>\n",
       "      <td>3ª REGIÃO MARACANAÚ</td>\n",
       "    </tr>\n",
       "    <tr>\n",
       "      <th>84</th>\n",
       "      <td>2020-02-07</td>\n",
       "      <td>ACARAU</td>\n",
       "      <td>SOBRAL</td>\n",
       "      <td>12ª REGIÃO ACARAÚ</td>\n",
       "    </tr>\n",
       "  </tbody>\n",
       "</table>\n",
       "</div>"
      ],
      "text/plain": [
       "         data municipio macroRegiao             regiaoSaude\n",
       "0  2020-02-07   ABAIARA      CARIRI  19ª REGIÃO BREJO SANTO\n",
       "41 2020-02-07   ACARAPE   FORTALEZA     3ª REGIÃO MARACANAÚ\n",
       "84 2020-02-07    ACARAU      SOBRAL       12ª REGIÃO ACARAÚ"
      ]
     },
     "metadata": {},
     "output_type": "display_data"
    },
    {
     "data": {
      "text/html": [
       "<div>\n",
       "<style scoped>\n",
       "    .dataframe tbody tr th:only-of-type {\n",
       "        vertical-align: middle;\n",
       "    }\n",
       "\n",
       "    .dataframe tbody tr th {\n",
       "        vertical-align: top;\n",
       "    }\n",
       "\n",
       "    .dataframe thead th {\n",
       "        text-align: right;\n",
       "    }\n",
       "</style>\n",
       "<table border=\"1\" class=\"dataframe\">\n",
       "  <thead>\n",
       "    <tr style=\"text-align: right;\">\n",
       "      <th></th>\n",
       "      <th>data</th>\n",
       "      <th>municipio</th>\n",
       "      <th>macroRegiao</th>\n",
       "      <th>regiaoSaude</th>\n",
       "    </tr>\n",
       "  </thead>\n",
       "  <tbody>\n",
       "    <tr>\n",
       "      <th>67</th>\n",
       "      <td>2020-02-07</td>\n",
       "      <td>FORTALEZA</td>\n",
       "      <td>FORTALEZA</td>\n",
       "      <td>1ª REGIÃO FORTALEZA</td>\n",
       "    </tr>\n",
       "    <tr>\n",
       "      <th>242</th>\n",
       "      <td>2020-02-08</td>\n",
       "      <td>FORTALEZA</td>\n",
       "      <td>FORTALEZA</td>\n",
       "      <td>1ª REGIÃO FORTALEZA</td>\n",
       "    </tr>\n",
       "    <tr>\n",
       "      <th>417</th>\n",
       "      <td>2020-02-09</td>\n",
       "      <td>FORTALEZA</td>\n",
       "      <td>FORTALEZA</td>\n",
       "      <td>1ª REGIÃO FORTALEZA</td>\n",
       "    </tr>\n",
       "  </tbody>\n",
       "</table>\n",
       "</div>"
      ],
      "text/plain": [
       "          data  municipio macroRegiao          regiaoSaude\n",
       "67  2020-02-07  FORTALEZA   FORTALEZA  1ª REGIÃO FORTALEZA\n",
       "242 2020-02-08  FORTALEZA   FORTALEZA  1ª REGIÃO FORTALEZA\n",
       "417 2020-02-09  FORTALEZA   FORTALEZA  1ª REGIÃO FORTALEZA"
      ]
     },
     "metadata": {},
     "output_type": "display_data"
    }
   ],
   "source": [
    "all_mun = df_dia.loc[:,['municipio','macroRegiao','regiaoSaude']].drop_duplicates()\n",
    "all_mun['id'] = 1\n",
    "all_times = all_times.merge(all_mun, how='outer', on='id')\n",
    "all_times.drop(['id'],axis=1, inplace=True)\n",
    "all_times = all_times.sort_values(['data','municipio'])\n",
    "display(all_times.head(3))\n",
    "display(all_times[all_times.municipio == 'FORTALEZA'].head(3))"
   ]
  },
  {
   "cell_type": "code",
   "execution_count": 45,
   "metadata": {},
   "outputs": [],
   "source": [
    "df = pd.pivot_table(df_dia, values='quantidade', index=['municipio','data'],\n",
    "                       columns=['tipo'], aggfunc=np.sum)\\\n",
    "                    .reset_index()\\\n",
    "                    .fillna(0)\n",
    "\n",
    "all_times = all_times.merge(df, on=['municipio','data'], how='left').fillna(0)"
   ]
  },
  {
   "cell_type": "code",
   "execution_count": 46,
   "metadata": {},
   "outputs": [],
   "source": [
    "cumsums = all_times.groupby(['municipio','macroRegiao','regiaoSaude', 'data']).sum().fillna(0)\n",
    "cumsums = cumsums.groupby(level=0).cumsum().reset_index()\n",
    "qtd_por_dia = all_times.merge(cumsums, on=['data','macroRegiao','regiaoSaude','municipio'], suffixes=['','Cum'])"
   ]
  },
  {
   "cell_type": "code",
   "execution_count": 47,
   "metadata": {},
   "outputs": [],
   "source": [
    "# adicionar as informações de coordenada \n",
    "mun_coord = df_parcial.loc[:,['municipio','lat','lon']]\n",
    "qtd_por_dia = qtd_por_dia.merge(mun_coord, on='municipio')"
   ]
  },
  {
   "cell_type": "markdown",
   "metadata": {},
   "source": [
    "### Exportar Dados para Excel / CSV"
   ]
  },
  {
   "cell_type": "code",
   "execution_count": 48,
   "metadata": {},
   "outputs": [],
   "source": [
    "# Salvando o número de casos por munício em formato CSV\n",
    "df_parcial.to_csv('../data/dados_por_municipio_{}.csv'.format(date.today()))\n",
    "# Salvando o número casos por dia e municipio CSV\n",
    "qtd_por_dia.to_csv('../data/dados_serie_historica_{}.csv'.format(date.today()))"
   ]
  },
  {
   "cell_type": "code",
   "execution_count": null,
   "metadata": {},
   "outputs": [],
   "source": []
  }
 ],
 "metadata": {
  "kernelspec": {
   "display_name": "Python 3.7.4 64-bit",
   "language": "python",
   "name": "python37464bitf9be23ff6cb04faa88966279fd4e14de"
  },
  "language_info": {
   "codemirror_mode": {
    "name": "ipython",
    "version": 3
   },
   "file_extension": ".py",
   "mimetype": "text/x-python",
   "name": "python",
   "nbconvert_exporter": "python",
   "pygments_lexer": "ipython3",
   "version": "3.7.4"
  }
 },
 "nbformat": 4,
 "nbformat_minor": 4
}
