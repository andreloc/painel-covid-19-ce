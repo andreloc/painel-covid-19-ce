{
 "cells": [
  {
   "cell_type": "markdown",
   "metadata": {},
   "source": [
    "## Extração de Dados da API Open Data SUS\n",
    "\n",
    "O objetivo desse notebook será gerar um CSV com um conjunto de dados associados de forma a possibilitar diferentes análises que faremos nas etapas seguintes. \n",
    "\n",
    "A idéia é ter em cada linha da tabela a informação do município e como ele estava no dia em questão e dessa maneira poder ser analisado evolução de casos e situações ao decorrer do tempo. \n",
    "\n",
    "Metas: \n",
    "- [x] Integrar dados agrupados por município com informações descritivas e geográficas \n",
    "- [x] Obter indicadores de casos separados por cada dia \n",
    "- [x] Obter informação do aumento do número suspeitos, confirmados e óbitos por dia\n",
    "- [x] Salvar dados em CSV\n",
    "- [ ] Salvar dados em Excel (XLSX) "
   ]
  },
  {
   "cell_type": "markdown",
   "metadata": {},
   "source": [
    "### Links Referência OpenSUS\n",
    "\n",
    "1. [Conjunto de APIs](https://github.com/EscolaDeSaudePublica/coronavirusAPI/issues/17)\n",
    "\n",
    "### Links Interessantes\n",
    "Abaixo alguns links utilizados com maiores instruções e detalhamentos sobre os procedimentos utilizados. \n",
    "\n",
    "1. [Convertendo JSON to dataframe](https://stackoverflow.com/questions/42518864/convert-json-data-from-request-into-pandas-dataframe)\n",
    "\n",
    "2. [Básico de Plotly](https://paulovasconcellos.com.br/como-criar-gr%C3%A1ficos-interativos-utilizando-plotly-e-python-3eb6eda57a2b)\n",
    "\n",
    "3. [Como Trabalhar com Datas](https://dicasdepython.com.br/python-como-converter-date-em-string-com-formatacao/)\n"
   ]
  },
  {
   "cell_type": "markdown",
   "metadata": {},
   "source": [
    "### Instalando dependências\n",
    "As dependências utilizadas estão a seguir. Basta descomentar e executar a célula abaixo para que possa ser instalada. "
   ]
  },
  {
   "cell_type": "code",
   "execution_count": 1,
   "metadata": {},
   "outputs": [],
   "source": [
    "# %conda install -c anaconda requests\n",
    "# %conda install -c plotly chart-studio\n",
    "# %conda install -c plotly plotly"
   ]
  },
  {
   "cell_type": "markdown",
   "metadata": {},
   "source": [
    "### Iniciando dependências e configurações básicas"
   ]
  },
  {
   "cell_type": "code",
   "execution_count": 2,
   "metadata": {},
   "outputs": [],
   "source": [
    "import pandas as pd\n",
    "import requests\n",
    "from datetime import date,datetime, timedelta\n",
    "import numpy as np"
   ]
  },
  {
   "cell_type": "markdown",
   "metadata": {},
   "source": [
    "### Criando um método auxiliar para consumir as APIs \n",
    "\n",
    "Normalmente todas APIs seguem o padrão de alguns campos como idMunicipio (ID IBGE do município) e data (dia no formato YYYY-MM-DD). "
   ]
  },
  {
   "cell_type": "code",
   "execution_count": 3,
   "metadata": {},
   "outputs": [],
   "source": [
    "def get_dataframe(api_url, data='', id_municipio=''):\n",
    "    '''Método básico para converter uma chamada a API em um objeto Dataframe'''\n",
    "    \n",
    "    api_url = api_url + '?'\n",
    "    if(id_municipio != ''): \n",
    "        api_url = '{}idMunicipio={}&'.format(api_url, id_municipio)\n",
    "    \n",
    "    if(data != ''): \n",
    "        api_url = '{}data={}&'.format(api_url, data)\n",
    "    \n",
    "    result = requests.get(api_url)\n",
    "    result = result.json()    \n",
    "    result = pd.DataFrame.from_dict(result)\n",
    "    \n",
    "    if(id_municipio != ''): \n",
    "        result.insert(0, 'idMunicipio', id_municipio)\n",
    "        \n",
    "    return result"
   ]
  },
  {
   "cell_type": "code",
   "execution_count": 4,
   "metadata": {},
   "outputs": [],
   "source": [
    "municipios          = get_dataframe('https://indicadores.integrasus.saude.ce.gov.br/api/municipio')\n",
    "macro_regiao        = get_dataframe('https://indicadores.integrasus.saude.ce.gov.br/api/macro-regiao')\n",
    "regiao_saude        = get_dataframe('https://indicadores.integrasus.saude.ce.gov.br/api/regiao-saude')\n",
    "qtd_por_municipios  = get_dataframe('https://indicadores.integrasus.saude.ce.gov.br/api/coronavirus/qtd-por-municipio')"
   ]
  },
  {
   "cell_type": "code",
   "execution_count": 5,
   "metadata": {},
   "outputs": [
    {
     "data": {
      "text/html": [
       "<div>\n",
       "<style scoped>\n",
       "    .dataframe tbody tr th:only-of-type {\n",
       "        vertical-align: middle;\n",
       "    }\n",
       "\n",
       "    .dataframe tbody tr th {\n",
       "        vertical-align: top;\n",
       "    }\n",
       "\n",
       "    .dataframe thead th {\n",
       "        text-align: right;\n",
       "    }\n",
       "</style>\n",
       "<table border=\"1\" class=\"dataframe\">\n",
       "  <thead>\n",
       "    <tr style=\"text-align: right;\">\n",
       "      <th></th>\n",
       "      <th>tipo</th>\n",
       "      <th>qtdSuspeito</th>\n",
       "      <th>municipio</th>\n",
       "      <th>idMunicipio</th>\n",
       "      <th>qtdObito</th>\n",
       "      <th>qtdConfirmado</th>\n",
       "    </tr>\n",
       "  </thead>\n",
       "  <tbody>\n",
       "    <tr>\n",
       "      <th>0</th>\n",
       "      <td>Suspeito</td>\n",
       "      <td>50.0</td>\n",
       "      <td>Sem informação</td>\n",
       "      <td>NaN</td>\n",
       "      <td>NaN</td>\n",
       "      <td>NaN</td>\n",
       "    </tr>\n",
       "    <tr>\n",
       "      <th>1</th>\n",
       "      <td>Suspeito</td>\n",
       "      <td>14.0</td>\n",
       "      <td>CAMOCIM</td>\n",
       "      <td>230260.0</td>\n",
       "      <td>NaN</td>\n",
       "      <td>NaN</td>\n",
       "    </tr>\n",
       "    <tr>\n",
       "      <th>2</th>\n",
       "      <td>Suspeito</td>\n",
       "      <td>2.0</td>\n",
       "      <td>ABAIARA</td>\n",
       "      <td>230010.0</td>\n",
       "      <td>NaN</td>\n",
       "      <td>NaN</td>\n",
       "    </tr>\n",
       "  </tbody>\n",
       "</table>\n",
       "</div>"
      ],
      "text/plain": [
       "       tipo  qtdSuspeito       municipio  idMunicipio  qtdObito  qtdConfirmado\n",
       "0  Suspeito         50.0  Sem informação          NaN       NaN            NaN\n",
       "1  Suspeito         14.0         CAMOCIM     230260.0       NaN            NaN\n",
       "2  Suspeito          2.0         ABAIARA     230010.0       NaN            NaN"
      ]
     },
     "execution_count": 5,
     "metadata": {},
     "output_type": "execute_result"
    }
   ],
   "source": [
    "qtd_por_municipios.head(3)"
   ]
  },
  {
   "cell_type": "code",
   "execution_count": 6,
   "metadata": {},
   "outputs": [
    {
     "data": {
      "text/html": [
       "<div>\n",
       "<style scoped>\n",
       "    .dataframe tbody tr th:only-of-type {\n",
       "        vertical-align: middle;\n",
       "    }\n",
       "\n",
       "    .dataframe tbody tr th {\n",
       "        vertical-align: top;\n",
       "    }\n",
       "\n",
       "    .dataframe thead th {\n",
       "        text-align: right;\n",
       "    }\n",
       "</style>\n",
       "<table border=\"1\" class=\"dataframe\">\n",
       "  <thead>\n",
       "    <tr style=\"text-align: right;\">\n",
       "      <th></th>\n",
       "      <th>id</th>\n",
       "      <th>idMacroRegiao</th>\n",
       "      <th>idRegiaoSaude</th>\n",
       "      <th>descricao</th>\n",
       "      <th>latitude</th>\n",
       "      <th>longitude</th>\n",
       "    </tr>\n",
       "  </thead>\n",
       "  <tbody>\n",
       "    <tr>\n",
       "      <th>0</th>\n",
       "      <td>230010</td>\n",
       "      <td>8</td>\n",
       "      <td>19</td>\n",
       "      <td>ABAIARA</td>\n",
       "      <td>-735542</td>\n",
       "      <td>-3904079</td>\n",
       "    </tr>\n",
       "    <tr>\n",
       "      <th>1</th>\n",
       "      <td>230015</td>\n",
       "      <td>1</td>\n",
       "      <td>2</td>\n",
       "      <td>ACARAPE</td>\n",
       "      <td>-422124</td>\n",
       "      <td>-3870508</td>\n",
       "    </tr>\n",
       "    <tr>\n",
       "      <th>2</th>\n",
       "      <td>230020</td>\n",
       "      <td>2</td>\n",
       "      <td>12</td>\n",
       "      <td>ACARAU</td>\n",
       "      <td>-288469</td>\n",
       "      <td>-4011870</td>\n",
       "    </tr>\n",
       "  </tbody>\n",
       "</table>\n",
       "</div>"
      ],
      "text/plain": [
       "       id  idMacroRegiao  idRegiaoSaude descricao latitude longitude\n",
       "0  230010              8             19   ABAIARA  -735542  -3904079\n",
       "1  230015              1              2   ACARAPE  -422124  -3870508\n",
       "2  230020              2             12    ACARAU  -288469  -4011870"
      ]
     },
     "execution_count": 6,
     "metadata": {},
     "output_type": "execute_result"
    }
   ],
   "source": [
    "municipios.head(3)"
   ]
  },
  {
   "cell_type": "code",
   "execution_count": 7,
   "metadata": {},
   "outputs": [
    {
     "data": {
      "text/html": [
       "<div>\n",
       "<style scoped>\n",
       "    .dataframe tbody tr th:only-of-type {\n",
       "        vertical-align: middle;\n",
       "    }\n",
       "\n",
       "    .dataframe tbody tr th {\n",
       "        vertical-align: top;\n",
       "    }\n",
       "\n",
       "    .dataframe thead th {\n",
       "        text-align: right;\n",
       "    }\n",
       "</style>\n",
       "<table border=\"1\" class=\"dataframe\">\n",
       "  <thead>\n",
       "    <tr style=\"text-align: right;\">\n",
       "      <th></th>\n",
       "      <th>id</th>\n",
       "      <th>descricao</th>\n",
       "    </tr>\n",
       "  </thead>\n",
       "  <tbody>\n",
       "    <tr>\n",
       "      <th>0</th>\n",
       "      <td>8</td>\n",
       "      <td>CARIRI</td>\n",
       "    </tr>\n",
       "    <tr>\n",
       "      <th>1</th>\n",
       "      <td>1</td>\n",
       "      <td>FORTALEZA</td>\n",
       "    </tr>\n",
       "    <tr>\n",
       "      <th>2</th>\n",
       "      <td>10</td>\n",
       "      <td>LITORAL LESTE/JAGUARIBE</td>\n",
       "    </tr>\n",
       "  </tbody>\n",
       "</table>\n",
       "</div>"
      ],
      "text/plain": [
       "   id                descricao\n",
       "0   8                   CARIRI\n",
       "1   1                FORTALEZA\n",
       "2  10  LITORAL LESTE/JAGUARIBE"
      ]
     },
     "execution_count": 7,
     "metadata": {},
     "output_type": "execute_result"
    }
   ],
   "source": [
    "macro_regiao.head(3)"
   ]
  },
  {
   "cell_type": "markdown",
   "metadata": {},
   "source": [
    "### Unir Município e Macro Região\n",
    "Como unir os dados dessas tabelas? Vamos usar a função [merge](https://pandas.pydata.org/pandas-docs/stable/reference/api/pandas.DataFrame.merge.html) do pandas, o qual é semelhante ao PROCV do Excel.  "
   ]
  },
  {
   "cell_type": "code",
   "execution_count": 8,
   "metadata": {},
   "outputs": [
    {
     "data": {
      "text/html": [
       "<div>\n",
       "<style scoped>\n",
       "    .dataframe tbody tr th:only-of-type {\n",
       "        vertical-align: middle;\n",
       "    }\n",
       "\n",
       "    .dataframe tbody tr th {\n",
       "        vertical-align: top;\n",
       "    }\n",
       "\n",
       "    .dataframe thead th {\n",
       "        text-align: right;\n",
       "    }\n",
       "</style>\n",
       "<table border=\"1\" class=\"dataframe\">\n",
       "  <thead>\n",
       "    <tr style=\"text-align: right;\">\n",
       "      <th></th>\n",
       "      <th>idMunicipio</th>\n",
       "      <th>idMacroRegiao</th>\n",
       "      <th>idRegiaoSaude</th>\n",
       "      <th>descricaoMunicipio</th>\n",
       "      <th>latitude</th>\n",
       "      <th>longitude</th>\n",
       "      <th>idMacroRegiao</th>\n",
       "      <th>descricaoMacroRegiao</th>\n",
       "    </tr>\n",
       "  </thead>\n",
       "  <tbody>\n",
       "    <tr>\n",
       "      <th>0</th>\n",
       "      <td>230010</td>\n",
       "      <td>8</td>\n",
       "      <td>19</td>\n",
       "      <td>ABAIARA</td>\n",
       "      <td>-735542</td>\n",
       "      <td>-3904079</td>\n",
       "      <td>8</td>\n",
       "      <td>CARIRI</td>\n",
       "    </tr>\n",
       "    <tr>\n",
       "      <th>1</th>\n",
       "      <td>230030</td>\n",
       "      <td>8</td>\n",
       "      <td>18</td>\n",
       "      <td>ACOPIARA</td>\n",
       "      <td>-609062</td>\n",
       "      <td>-3945153</td>\n",
       "      <td>8</td>\n",
       "      <td>CARIRI</td>\n",
       "    </tr>\n",
       "    <tr>\n",
       "      <th>2</th>\n",
       "      <td>230060</td>\n",
       "      <td>8</td>\n",
       "      <td>20</td>\n",
       "      <td>ALTANEIRA</td>\n",
       "      <td>-700102</td>\n",
       "      <td>-3973774</td>\n",
       "      <td>8</td>\n",
       "      <td>CARIRI</td>\n",
       "    </tr>\n",
       "  </tbody>\n",
       "</table>\n",
       "</div>"
      ],
      "text/plain": [
       "   idMunicipio  idMacroRegiao  idRegiaoSaude descricaoMunicipio latitude  \\\n",
       "0       230010              8             19            ABAIARA  -735542   \n",
       "1       230030              8             18           ACOPIARA  -609062   \n",
       "2       230060              8             20          ALTANEIRA  -700102   \n",
       "\n",
       "  longitude  idMacroRegiao descricaoMacroRegiao  \n",
       "0  -3904079              8               CARIRI  \n",
       "1  -3945153              8               CARIRI  \n",
       "2  -3973774              8               CARIRI  "
      ]
     },
     "execution_count": 8,
     "metadata": {},
     "output_type": "execute_result"
    }
   ],
   "source": [
    "# Vamos unir a tabela de municípios com as suas respectivas macro regiões. \n",
    "municipio_macro_regiao = municipios.merge(macro_regiao, \n",
    "                               left_on='idMacroRegiao', \n",
    "                               right_on='id', \n",
    "                               suffixes=['Municipio','MacroRegiao'])\n",
    "\n",
    "municipio_macro_regiao.head(3)"
   ]
  },
  {
   "cell_type": "markdown",
   "metadata": {},
   "source": [
    "### Unir Região de Saúde"
   ]
  },
  {
   "cell_type": "code",
   "execution_count": 9,
   "metadata": {},
   "outputs": [
    {
     "data": {
      "text/html": [
       "<div>\n",
       "<style scoped>\n",
       "    .dataframe tbody tr th:only-of-type {\n",
       "        vertical-align: middle;\n",
       "    }\n",
       "\n",
       "    .dataframe tbody tr th {\n",
       "        vertical-align: top;\n",
       "    }\n",
       "\n",
       "    .dataframe thead th {\n",
       "        text-align: right;\n",
       "    }\n",
       "</style>\n",
       "<table border=\"1\" class=\"dataframe\">\n",
       "  <thead>\n",
       "    <tr style=\"text-align: right;\">\n",
       "      <th></th>\n",
       "      <th>id</th>\n",
       "      <th>idMacroRegiao</th>\n",
       "      <th>descricao</th>\n",
       "    </tr>\n",
       "  </thead>\n",
       "  <tbody>\n",
       "    <tr>\n",
       "      <th>0</th>\n",
       "      <td>1</td>\n",
       "      <td>1</td>\n",
       "      <td>1ª REGIÃO FORTALEZA</td>\n",
       "    </tr>\n",
       "    <tr>\n",
       "      <th>1</th>\n",
       "      <td>2</td>\n",
       "      <td>1</td>\n",
       "      <td>3ª REGIÃO MARACANAÚ</td>\n",
       "    </tr>\n",
       "    <tr>\n",
       "      <th>2</th>\n",
       "      <td>3</td>\n",
       "      <td>1</td>\n",
       "      <td>2ª REGIÃO CAUCAIA</td>\n",
       "    </tr>\n",
       "  </tbody>\n",
       "</table>\n",
       "</div>"
      ],
      "text/plain": [
       "   id  idMacroRegiao            descricao\n",
       "0   1              1  1ª REGIÃO FORTALEZA\n",
       "1   2              1  3ª REGIÃO MARACANAÚ\n",
       "2   3              1    2ª REGIÃO CAUCAIA"
      ]
     },
     "execution_count": 9,
     "metadata": {},
     "output_type": "execute_result"
    }
   ],
   "source": [
    "regiao_saude.head(3)"
   ]
  },
  {
   "cell_type": "code",
   "execution_count": 10,
   "metadata": {},
   "outputs": [
    {
     "data": {
      "text/html": [
       "<div>\n",
       "<style scoped>\n",
       "    .dataframe tbody tr th:only-of-type {\n",
       "        vertical-align: middle;\n",
       "    }\n",
       "\n",
       "    .dataframe tbody tr th {\n",
       "        vertical-align: top;\n",
       "    }\n",
       "\n",
       "    .dataframe thead th {\n",
       "        text-align: right;\n",
       "    }\n",
       "</style>\n",
       "<table border=\"1\" class=\"dataframe\">\n",
       "  <thead>\n",
       "    <tr style=\"text-align: right;\">\n",
       "      <th></th>\n",
       "      <th>idMunicipio</th>\n",
       "      <th>idMacroRegiao</th>\n",
       "      <th>idRegiaoSaude</th>\n",
       "      <th>descricaoMunicipio</th>\n",
       "      <th>latitude</th>\n",
       "      <th>longitude</th>\n",
       "      <th>idMacroRegiao</th>\n",
       "      <th>descricaoMacroRegiao</th>\n",
       "      <th>id</th>\n",
       "      <th>idMacroRegiaoRegiaoSaude</th>\n",
       "      <th>descricao</th>\n",
       "    </tr>\n",
       "  </thead>\n",
       "  <tbody>\n",
       "    <tr>\n",
       "      <th>0</th>\n",
       "      <td>230010</td>\n",
       "      <td>8</td>\n",
       "      <td>19</td>\n",
       "      <td>ABAIARA</td>\n",
       "      <td>-735542</td>\n",
       "      <td>-3904079</td>\n",
       "      <td>8</td>\n",
       "      <td>CARIRI</td>\n",
       "      <td>19</td>\n",
       "      <td>8</td>\n",
       "      <td>19ª REGIÃO BREJO SANTO</td>\n",
       "    </tr>\n",
       "    <tr>\n",
       "      <th>1</th>\n",
       "      <td>230170</td>\n",
       "      <td>8</td>\n",
       "      <td>19</td>\n",
       "      <td>AURORA</td>\n",
       "      <td>-693893</td>\n",
       "      <td>-3896717</td>\n",
       "      <td>8</td>\n",
       "      <td>CARIRI</td>\n",
       "      <td>19</td>\n",
       "      <td>8</td>\n",
       "      <td>19ª REGIÃO BREJO SANTO</td>\n",
       "    </tr>\n",
       "    <tr>\n",
       "      <th>2</th>\n",
       "      <td>230200</td>\n",
       "      <td>8</td>\n",
       "      <td>19</td>\n",
       "      <td>BARRO</td>\n",
       "      <td>-717277</td>\n",
       "      <td>-3877582</td>\n",
       "      <td>8</td>\n",
       "      <td>CARIRI</td>\n",
       "      <td>19</td>\n",
       "      <td>8</td>\n",
       "      <td>19ª REGIÃO BREJO SANTO</td>\n",
       "    </tr>\n",
       "  </tbody>\n",
       "</table>\n",
       "</div>"
      ],
      "text/plain": [
       "   idMunicipio  idMacroRegiao  idRegiaoSaude descricaoMunicipio latitude  \\\n",
       "0       230010              8             19            ABAIARA  -735542   \n",
       "1       230170              8             19             AURORA  -693893   \n",
       "2       230200              8             19              BARRO  -717277   \n",
       "\n",
       "  longitude  idMacroRegiao descricaoMacroRegiao  id  idMacroRegiaoRegiaoSaude  \\\n",
       "0  -3904079              8               CARIRI  19                         8   \n",
       "1  -3896717              8               CARIRI  19                         8   \n",
       "2  -3877582              8               CARIRI  19                         8   \n",
       "\n",
       "                descricao  \n",
       "0  19ª REGIÃO BREJO SANTO  \n",
       "1  19ª REGIÃO BREJO SANTO  \n",
       "2  19ª REGIÃO BREJO SANTO  "
      ]
     },
     "execution_count": 10,
     "metadata": {},
     "output_type": "execute_result"
    }
   ],
   "source": [
    "# Vamos unir a tabela de municípios com as suas respectivas macro regiões. \n",
    "municipio_macro_regiao = municipio_macro_regiao.merge(regiao_saude, \n",
    "                               left_on='idRegiaoSaude', \n",
    "                               right_on='id', suffixes=['','RegiaoSaude'])\n",
    "\n",
    "municipio_macro_regiao.head(3)"
   ]
  },
  {
   "cell_type": "code",
   "execution_count": 11,
   "metadata": {},
   "outputs": [
    {
     "data": {
      "text/html": [
       "<div>\n",
       "<style scoped>\n",
       "    .dataframe tbody tr th:only-of-type {\n",
       "        vertical-align: middle;\n",
       "    }\n",
       "\n",
       "    .dataframe tbody tr th {\n",
       "        vertical-align: top;\n",
       "    }\n",
       "\n",
       "    .dataframe thead th {\n",
       "        text-align: right;\n",
       "    }\n",
       "</style>\n",
       "<table border=\"1\" class=\"dataframe\">\n",
       "  <thead>\n",
       "    <tr style=\"text-align: right;\">\n",
       "      <th></th>\n",
       "      <th>idMunicipio</th>\n",
       "      <th>idMacroRegiao</th>\n",
       "      <th>idRegiaoSaude</th>\n",
       "      <th>descricaoMunicipio</th>\n",
       "      <th>latitude</th>\n",
       "      <th>longitude</th>\n",
       "      <th>descricaoMacroRegiao</th>\n",
       "      <th>descricao</th>\n",
       "    </tr>\n",
       "  </thead>\n",
       "  <tbody>\n",
       "    <tr>\n",
       "      <th>0</th>\n",
       "      <td>230010</td>\n",
       "      <td>8</td>\n",
       "      <td>19</td>\n",
       "      <td>ABAIARA</td>\n",
       "      <td>-735542</td>\n",
       "      <td>-3904079</td>\n",
       "      <td>CARIRI</td>\n",
       "      <td>19ª REGIÃO BREJO SANTO</td>\n",
       "    </tr>\n",
       "    <tr>\n",
       "      <th>2</th>\n",
       "      <td>230200</td>\n",
       "      <td>8</td>\n",
       "      <td>19</td>\n",
       "      <td>BARRO</td>\n",
       "      <td>-717277</td>\n",
       "      <td>-3877582</td>\n",
       "      <td>CARIRI</td>\n",
       "      <td>19ª REGIÃO BREJO SANTO</td>\n",
       "    </tr>\n",
       "    <tr>\n",
       "      <th>3</th>\n",
       "      <td>230250</td>\n",
       "      <td>8</td>\n",
       "      <td>19</td>\n",
       "      <td>BREJO SANTO</td>\n",
       "      <td>-748943</td>\n",
       "      <td>-3898571</td>\n",
       "      <td>CARIRI</td>\n",
       "      <td>19ª REGIÃO BREJO SANTO</td>\n",
       "    </tr>\n",
       "  </tbody>\n",
       "</table>\n",
       "</div>"
      ],
      "text/plain": [
       "   idMunicipio  idMacroRegiao  idRegiaoSaude descricaoMunicipio latitude  \\\n",
       "0       230010              8             19            ABAIARA  -735542   \n",
       "2       230200              8             19              BARRO  -717277   \n",
       "3       230250              8             19        BREJO SANTO  -748943   \n",
       "\n",
       "  longitude descricaoMacroRegiao               descricao  \n",
       "0  -3904079               CARIRI  19ª REGIÃO BREJO SANTO  \n",
       "2  -3877582               CARIRI  19ª REGIÃO BREJO SANTO  \n",
       "3  -3898571               CARIRI  19ª REGIÃO BREJO SANTO  "
      ]
     },
     "execution_count": 11,
     "metadata": {},
     "output_type": "execute_result"
    }
   ],
   "source": [
    "# apaga algumas colunas desnecessárias\n",
    "municipio_macro_regiao.drop(columns=['idMacroRegiaoRegiaoSaude','id'], index=1, inplace=True)\n",
    "# algumas colunas estão duplicadas e podem nos atrapalhar. Removendo. \n",
    "municipio_macro_regiao = municipio_macro_regiao.loc[:,\n",
    "                                                    ~municipio_macro_regiao.columns.duplicated()]\n",
    "municipio_macro_regiao.head(3)"
   ]
  },
  {
   "cell_type": "markdown",
   "metadata": {},
   "source": [
    "### Ajustar nomes de colunas dos municípios e regiões"
   ]
  },
  {
   "cell_type": "code",
   "execution_count": 12,
   "metadata": {},
   "outputs": [],
   "source": [
    "municipio_macro_regiao.rename(columns={\"descricao\": \"regiaoSaude\", \n",
    "                                       \"descricaoMunicipio\": \"municipio\",\n",
    "                                       \"descricaoMacroRegiao\": \"macroRegiao\",\n",
    "                                       \"latitude\":\"lat\", \n",
    "                                       \"longitude\":\"lon\"},\n",
    "                             inplace=True)"
   ]
  },
  {
   "cell_type": "code",
   "execution_count": 13,
   "metadata": {},
   "outputs": [
    {
     "data": {
      "text/plain": [
       "(183, 8)"
      ]
     },
     "execution_count": 13,
     "metadata": {},
     "output_type": "execute_result"
    }
   ],
   "source": [
    "municipio_macro_regiao.shape \n",
    "# Quantos municipios tem o Ceará? TUDO OK\n",
    "# https://www.google.com/search?q=quantos+municipios+tem+o+ceara&oq=quantos+municipios+tem+o+ceara&aqs=chrome..69i57j0l2.5808j0j7&sourceid=chrome&ie=UTF-8"
   ]
  },
  {
   "cell_type": "markdown",
   "metadata": {},
   "source": [
    "### Unir dados à Quantidade Por Município\n",
    "- Agora vamos unir os dados de municipio/macro-região aos dados de quantidades por municipio"
   ]
  },
  {
   "cell_type": "code",
   "execution_count": 14,
   "metadata": {},
   "outputs": [
    {
     "data": {
      "text/html": [
       "<div>\n",
       "<style scoped>\n",
       "    .dataframe tbody tr th:only-of-type {\n",
       "        vertical-align: middle;\n",
       "    }\n",
       "\n",
       "    .dataframe tbody tr th {\n",
       "        vertical-align: top;\n",
       "    }\n",
       "\n",
       "    .dataframe thead th {\n",
       "        text-align: right;\n",
       "    }\n",
       "</style>\n",
       "<table border=\"1\" class=\"dataframe\">\n",
       "  <thead>\n",
       "    <tr style=\"text-align: right;\">\n",
       "      <th></th>\n",
       "      <th>tipo</th>\n",
       "      <th>qtdSuspeito</th>\n",
       "      <th>municipio</th>\n",
       "      <th>idMunicipio</th>\n",
       "      <th>qtdObito</th>\n",
       "      <th>qtdConfirmado</th>\n",
       "    </tr>\n",
       "  </thead>\n",
       "  <tbody>\n",
       "    <tr>\n",
       "      <th>0</th>\n",
       "      <td>Suspeito</td>\n",
       "      <td>50.0</td>\n",
       "      <td>Sem informação</td>\n",
       "      <td>NaN</td>\n",
       "      <td>NaN</td>\n",
       "      <td>NaN</td>\n",
       "    </tr>\n",
       "    <tr>\n",
       "      <th>1</th>\n",
       "      <td>Suspeito</td>\n",
       "      <td>14.0</td>\n",
       "      <td>CAMOCIM</td>\n",
       "      <td>230260.0</td>\n",
       "      <td>NaN</td>\n",
       "      <td>NaN</td>\n",
       "    </tr>\n",
       "    <tr>\n",
       "      <th>2</th>\n",
       "      <td>Suspeito</td>\n",
       "      <td>2.0</td>\n",
       "      <td>ABAIARA</td>\n",
       "      <td>230010.0</td>\n",
       "      <td>NaN</td>\n",
       "      <td>NaN</td>\n",
       "    </tr>\n",
       "  </tbody>\n",
       "</table>\n",
       "</div>"
      ],
      "text/plain": [
       "       tipo  qtdSuspeito       municipio  idMunicipio  qtdObito  qtdConfirmado\n",
       "0  Suspeito         50.0  Sem informação          NaN       NaN            NaN\n",
       "1  Suspeito         14.0         CAMOCIM     230260.0       NaN            NaN\n",
       "2  Suspeito          2.0         ABAIARA     230010.0       NaN            NaN"
      ]
     },
     "execution_count": 14,
     "metadata": {},
     "output_type": "execute_result"
    }
   ],
   "source": [
    "qtd_por_municipios.head(3)"
   ]
  },
  {
   "cell_type": "code",
   "execution_count": 15,
   "metadata": {},
   "outputs": [
    {
     "data": {
      "text/plain": [
       "(249, 6)"
      ]
     },
     "execution_count": 15,
     "metadata": {},
     "output_type": "execute_result"
    }
   ],
   "source": [
    "qtd_por_municipios.shape"
   ]
  },
  {
   "cell_type": "code",
   "execution_count": 16,
   "metadata": {},
   "outputs": [
    {
     "data": {
      "text/html": [
       "<div>\n",
       "<style scoped>\n",
       "    .dataframe tbody tr th:only-of-type {\n",
       "        vertical-align: middle;\n",
       "    }\n",
       "\n",
       "    .dataframe tbody tr th {\n",
       "        vertical-align: top;\n",
       "    }\n",
       "\n",
       "    .dataframe thead th {\n",
       "        text-align: right;\n",
       "    }\n",
       "</style>\n",
       "<table border=\"1\" class=\"dataframe\">\n",
       "  <thead>\n",
       "    <tr style=\"text-align: right;\">\n",
       "      <th></th>\n",
       "      <th>tipo</th>\n",
       "      <th>qtdSuspeito</th>\n",
       "      <th>municipio</th>\n",
       "      <th>idMunicipio</th>\n",
       "      <th>qtdObito</th>\n",
       "      <th>qtdConfirmado</th>\n",
       "    </tr>\n",
       "  </thead>\n",
       "  <tbody>\n",
       "    <tr>\n",
       "      <th>0</th>\n",
       "      <td>Suspeito</td>\n",
       "      <td>50.0</td>\n",
       "      <td>Sem informação</td>\n",
       "      <td>NaN</td>\n",
       "      <td>NaN</td>\n",
       "      <td>NaN</td>\n",
       "    </tr>\n",
       "    <tr>\n",
       "      <th>248</th>\n",
       "      <td>Confirmado</td>\n",
       "      <td>NaN</td>\n",
       "      <td>Sem informação</td>\n",
       "      <td>NaN</td>\n",
       "      <td>NaN</td>\n",
       "      <td>20.0</td>\n",
       "    </tr>\n",
       "  </tbody>\n",
       "</table>\n",
       "</div>"
      ],
      "text/plain": [
       "           tipo  qtdSuspeito       municipio  idMunicipio  qtdObito  \\\n",
       "0      Suspeito         50.0  Sem informação          NaN       NaN   \n",
       "248  Confirmado          NaN  Sem informação          NaN       NaN   \n",
       "\n",
       "     qtdConfirmado  \n",
       "0              NaN  \n",
       "248           20.0  "
      ]
     },
     "execution_count": 16,
     "metadata": {},
     "output_type": "execute_result"
    }
   ],
   "source": [
    "qtd_por_municipios[qtd_por_municipios.idMunicipio.isna()]"
   ]
  },
  {
   "cell_type": "markdown",
   "metadata": {},
   "source": [
    "### Pergunta\n",
    "[Pergunta](https://github.com/EscolaDeSaudePublica/coronavirusAPI/issues/17#issuecomment-612133737) \n",
    " @victorMagalhaesPacheco, na API qtd-por-municipio em alguns não há informação do município. Pode explicar melhor quando isso ocorre? É realmente esperado?\n"
   ]
  },
  {
   "cell_type": "code",
   "execution_count": 17,
   "metadata": {},
   "outputs": [
    {
     "data": {
      "text/plain": [
       "(247, 6)"
      ]
     },
     "execution_count": 17,
     "metadata": {},
     "output_type": "execute_result"
    }
   ],
   "source": [
    "qtd_por_municipios = qtd_por_municipios[~qtd_por_municipios['idMunicipio'].isna()]\n",
    "qtd_por_municipios['idMunicipio'] = qtd_por_municipios['idMunicipio'].astype(int)\n",
    "qtd_por_municipios.shape"
   ]
  },
  {
   "cell_type": "code",
   "execution_count": 18,
   "metadata": {},
   "outputs": [
    {
     "data": {
      "text/html": [
       "<div>\n",
       "<style scoped>\n",
       "    .dataframe tbody tr th:only-of-type {\n",
       "        vertical-align: middle;\n",
       "    }\n",
       "\n",
       "    .dataframe tbody tr th {\n",
       "        vertical-align: top;\n",
       "    }\n",
       "\n",
       "    .dataframe thead th {\n",
       "        text-align: right;\n",
       "    }\n",
       "</style>\n",
       "<table border=\"1\" class=\"dataframe\">\n",
       "  <thead>\n",
       "    <tr style=\"text-align: right;\">\n",
       "      <th></th>\n",
       "      <th>tipo</th>\n",
       "      <th>qtdSuspeito</th>\n",
       "      <th>municipio</th>\n",
       "      <th>idMunicipio</th>\n",
       "      <th>qtdObito</th>\n",
       "      <th>qtdConfirmado</th>\n",
       "    </tr>\n",
       "  </thead>\n",
       "  <tbody>\n",
       "    <tr>\n",
       "      <th>177</th>\n",
       "      <td>Suspeito</td>\n",
       "      <td>6275.0</td>\n",
       "      <td>FORTALEZA</td>\n",
       "      <td>230440</td>\n",
       "      <td>NaN</td>\n",
       "      <td>NaN</td>\n",
       "    </tr>\n",
       "    <tr>\n",
       "      <th>185</th>\n",
       "      <td>Óbito</td>\n",
       "      <td>NaN</td>\n",
       "      <td>FORTALEZA</td>\n",
       "      <td>230440</td>\n",
       "      <td>53.0</td>\n",
       "      <td>NaN</td>\n",
       "    </tr>\n",
       "    <tr>\n",
       "      <th>208</th>\n",
       "      <td>Confirmado</td>\n",
       "      <td>NaN</td>\n",
       "      <td>FORTALEZA</td>\n",
       "      <td>230440</td>\n",
       "      <td>NaN</td>\n",
       "      <td>1429.0</td>\n",
       "    </tr>\n",
       "  </tbody>\n",
       "</table>\n",
       "</div>"
      ],
      "text/plain": [
       "           tipo  qtdSuspeito  municipio  idMunicipio  qtdObito  qtdConfirmado\n",
       "177    Suspeito       6275.0  FORTALEZA       230440       NaN            NaN\n",
       "185       Óbito          NaN  FORTALEZA       230440      53.0            NaN\n",
       "208  Confirmado          NaN  FORTALEZA       230440       NaN         1429.0"
      ]
     },
     "metadata": {},
     "output_type": "display_data"
    }
   ],
   "source": [
    "fortaleza = qtd_por_municipios[qtd_por_municipios.municipio == 'FORTALEZA']\n",
    "display(fortaleza)"
   ]
  },
  {
   "cell_type": "code",
   "execution_count": 19,
   "metadata": {},
   "outputs": [
    {
     "data": {
      "text/html": [
       "<div>\n",
       "<style scoped>\n",
       "    .dataframe tbody tr th:only-of-type {\n",
       "        vertical-align: middle;\n",
       "    }\n",
       "\n",
       "    .dataframe tbody tr th {\n",
       "        vertical-align: top;\n",
       "    }\n",
       "\n",
       "    .dataframe thead th {\n",
       "        text-align: right;\n",
       "    }\n",
       "</style>\n",
       "<table border=\"1\" class=\"dataframe\">\n",
       "  <thead>\n",
       "    <tr style=\"text-align: right;\">\n",
       "      <th></th>\n",
       "      <th>qtdSuspeito</th>\n",
       "      <th>qtdObito</th>\n",
       "      <th>qtdConfirmado</th>\n",
       "    </tr>\n",
       "    <tr>\n",
       "      <th>idMunicipio</th>\n",
       "      <th></th>\n",
       "      <th></th>\n",
       "      <th></th>\n",
       "    </tr>\n",
       "  </thead>\n",
       "  <tbody>\n",
       "    <tr>\n",
       "      <th>230010</th>\n",
       "      <td>2.0</td>\n",
       "      <td>0.0</td>\n",
       "      <td>0.0</td>\n",
       "    </tr>\n",
       "    <tr>\n",
       "      <th>230015</th>\n",
       "      <td>6.0</td>\n",
       "      <td>0.0</td>\n",
       "      <td>0.0</td>\n",
       "    </tr>\n",
       "    <tr>\n",
       "      <th>230020</th>\n",
       "      <td>34.0</td>\n",
       "      <td>0.0</td>\n",
       "      <td>0.0</td>\n",
       "    </tr>\n",
       "  </tbody>\n",
       "</table>\n",
       "</div>"
      ],
      "text/plain": [
       "             qtdSuspeito  qtdObito  qtdConfirmado\n",
       "idMunicipio                                      \n",
       "230010               2.0       0.0            0.0\n",
       "230015               6.0       0.0            0.0\n",
       "230020              34.0       0.0            0.0"
      ]
     },
     "execution_count": 19,
     "metadata": {},
     "output_type": "execute_result"
    }
   ],
   "source": [
    "# Como fica apenas FORTALEZA agrupado por id do município\n",
    "qtd_por_municipios = qtd_por_municipios.groupby('idMunicipio').sum()\n",
    "qtd_por_municipios.head(3)"
   ]
  },
  {
   "cell_type": "code",
   "execution_count": 20,
   "metadata": {},
   "outputs": [
    {
     "data": {
      "text/html": [
       "<div>\n",
       "<style scoped>\n",
       "    .dataframe tbody tr th:only-of-type {\n",
       "        vertical-align: middle;\n",
       "    }\n",
       "\n",
       "    .dataframe tbody tr th {\n",
       "        vertical-align: top;\n",
       "    }\n",
       "\n",
       "    .dataframe thead th {\n",
       "        text-align: right;\n",
       "    }\n",
       "</style>\n",
       "<table border=\"1\" class=\"dataframe\">\n",
       "  <thead>\n",
       "    <tr style=\"text-align: right;\">\n",
       "      <th></th>\n",
       "      <th>idMunicipio</th>\n",
       "      <th>qtdSuspeito</th>\n",
       "      <th>qtdObito</th>\n",
       "      <th>qtdConfirmado</th>\n",
       "    </tr>\n",
       "  </thead>\n",
       "  <tbody>\n",
       "    <tr>\n",
       "      <th>0</th>\n",
       "      <td>230010</td>\n",
       "      <td>2.0</td>\n",
       "      <td>0.0</td>\n",
       "      <td>0.0</td>\n",
       "    </tr>\n",
       "    <tr>\n",
       "      <th>1</th>\n",
       "      <td>230015</td>\n",
       "      <td>6.0</td>\n",
       "      <td>0.0</td>\n",
       "      <td>0.0</td>\n",
       "    </tr>\n",
       "    <tr>\n",
       "      <th>2</th>\n",
       "      <td>230020</td>\n",
       "      <td>34.0</td>\n",
       "      <td>0.0</td>\n",
       "      <td>0.0</td>\n",
       "    </tr>\n",
       "  </tbody>\n",
       "</table>\n",
       "</div>"
      ],
      "text/plain": [
       "   idMunicipio  qtdSuspeito  qtdObito  qtdConfirmado\n",
       "0       230010          2.0       0.0            0.0\n",
       "1       230015          6.0       0.0            0.0\n",
       "2       230020         34.0       0.0            0.0"
      ]
     },
     "metadata": {},
     "output_type": "display_data"
    }
   ],
   "source": [
    "qtd_por_municipios.reset_index(inplace=True)\n",
    "display(qtd_por_municipios.head(3))"
   ]
  },
  {
   "cell_type": "code",
   "execution_count": 21,
   "metadata": {},
   "outputs": [
    {
     "data": {
      "text/html": [
       "<div>\n",
       "<style scoped>\n",
       "    .dataframe tbody tr th:only-of-type {\n",
       "        vertical-align: middle;\n",
       "    }\n",
       "\n",
       "    .dataframe tbody tr th {\n",
       "        vertical-align: top;\n",
       "    }\n",
       "\n",
       "    .dataframe thead th {\n",
       "        text-align: right;\n",
       "    }\n",
       "</style>\n",
       "<table border=\"1\" class=\"dataframe\">\n",
       "  <thead>\n",
       "    <tr style=\"text-align: right;\">\n",
       "      <th></th>\n",
       "      <th>idMunicipio</th>\n",
       "      <th>idMacroRegiao</th>\n",
       "      <th>idRegiaoSaude</th>\n",
       "      <th>municipio</th>\n",
       "      <th>lat</th>\n",
       "      <th>lon</th>\n",
       "      <th>macroRegiao</th>\n",
       "      <th>regiaoSaude</th>\n",
       "      <th>qtdSuspeito</th>\n",
       "      <th>qtdObito</th>\n",
       "      <th>qtdConfirmado</th>\n",
       "    </tr>\n",
       "  </thead>\n",
       "  <tbody>\n",
       "    <tr>\n",
       "      <th>0</th>\n",
       "      <td>230010</td>\n",
       "      <td>8</td>\n",
       "      <td>19</td>\n",
       "      <td>ABAIARA</td>\n",
       "      <td>-735542</td>\n",
       "      <td>-3904079</td>\n",
       "      <td>CARIRI</td>\n",
       "      <td>19ª REGIÃO BREJO SANTO</td>\n",
       "      <td>2.0</td>\n",
       "      <td>0.0</td>\n",
       "      <td>0.0</td>\n",
       "    </tr>\n",
       "    <tr>\n",
       "      <th>1</th>\n",
       "      <td>230200</td>\n",
       "      <td>8</td>\n",
       "      <td>19</td>\n",
       "      <td>BARRO</td>\n",
       "      <td>-717277</td>\n",
       "      <td>-3877582</td>\n",
       "      <td>CARIRI</td>\n",
       "      <td>19ª REGIÃO BREJO SANTO</td>\n",
       "      <td>4.0</td>\n",
       "      <td>0.0</td>\n",
       "      <td>0.0</td>\n",
       "    </tr>\n",
       "    <tr>\n",
       "      <th>2</th>\n",
       "      <td>230250</td>\n",
       "      <td>8</td>\n",
       "      <td>19</td>\n",
       "      <td>BREJO SANTO</td>\n",
       "      <td>-748943</td>\n",
       "      <td>-3898571</td>\n",
       "      <td>CARIRI</td>\n",
       "      <td>19ª REGIÃO BREJO SANTO</td>\n",
       "      <td>11.0</td>\n",
       "      <td>0.0</td>\n",
       "      <td>0.0</td>\n",
       "    </tr>\n",
       "  </tbody>\n",
       "</table>\n",
       "</div>"
      ],
      "text/plain": [
       "   idMunicipio  idMacroRegiao  idRegiaoSaude    municipio      lat       lon  \\\n",
       "0       230010              8             19      ABAIARA  -735542  -3904079   \n",
       "1       230200              8             19        BARRO  -717277  -3877582   \n",
       "2       230250              8             19  BREJO SANTO  -748943  -3898571   \n",
       "\n",
       "  macroRegiao             regiaoSaude  qtdSuspeito  qtdObito  qtdConfirmado  \n",
       "0      CARIRI  19ª REGIÃO BREJO SANTO          2.0       0.0            0.0  \n",
       "1      CARIRI  19ª REGIÃO BREJO SANTO          4.0       0.0            0.0  \n",
       "2      CARIRI  19ª REGIÃO BREJO SANTO         11.0       0.0            0.0  "
      ]
     },
     "execution_count": 21,
     "metadata": {},
     "output_type": "execute_result"
    }
   ],
   "source": [
    "df_parcial  = municipio_macro_regiao.merge(qtd_por_municipios, on='idMunicipio')\n",
    "df_parcial.head(3)"
   ]
  },
  {
   "cell_type": "code",
   "execution_count": 22,
   "metadata": {},
   "outputs": [
    {
     "data": {
      "text/plain": [
       "(178, 11)"
      ]
     },
     "execution_count": 22,
     "metadata": {},
     "output_type": "execute_result"
    }
   ],
   "source": [
    "df_parcial.shape"
   ]
  },
  {
   "cell_type": "code",
   "execution_count": 23,
   "metadata": {},
   "outputs": [],
   "source": [
    "# Padronizar as latitudes / longitudes. \n",
    "# atualmente os dados estão em formato string (texto) e o valor não é um decimal válido. \n",
    "\n",
    "# Convertendo de texto (str) para numérico (int)\n",
    "df_parcial['lat']  = df_parcial['lat'].astype(int)\n",
    "df_parcial['lon'] = df_parcial['lon'].astype(int)\n",
    "\n",
    "# utilizando formato mais comum de sistemas geográficos (decimal): dividindo por 10000\n",
    "df_parcial['lat']  = df_parcial['lat']  /100000\n",
    "df_parcial['lon'] = df_parcial['lon'] /100000"
   ]
  },
  {
   "cell_type": "code",
   "execution_count": 24,
   "metadata": {},
   "outputs": [
    {
     "data": {
      "text/html": [
       "<div>\n",
       "<style scoped>\n",
       "    .dataframe tbody tr th:only-of-type {\n",
       "        vertical-align: middle;\n",
       "    }\n",
       "\n",
       "    .dataframe tbody tr th {\n",
       "        vertical-align: top;\n",
       "    }\n",
       "\n",
       "    .dataframe thead th {\n",
       "        text-align: right;\n",
       "    }\n",
       "</style>\n",
       "<table border=\"1\" class=\"dataframe\">\n",
       "  <thead>\n",
       "    <tr style=\"text-align: right;\">\n",
       "      <th></th>\n",
       "      <th>idMunicipio</th>\n",
       "      <th>idMacroRegiao</th>\n",
       "      <th>idRegiaoSaude</th>\n",
       "      <th>municipio</th>\n",
       "      <th>lat</th>\n",
       "      <th>lon</th>\n",
       "      <th>macroRegiao</th>\n",
       "      <th>regiaoSaude</th>\n",
       "      <th>qtdSuspeito</th>\n",
       "      <th>qtdObito</th>\n",
       "      <th>qtdConfirmado</th>\n",
       "    </tr>\n",
       "  </thead>\n",
       "  <tbody>\n",
       "    <tr>\n",
       "      <th>0</th>\n",
       "      <td>230010</td>\n",
       "      <td>8</td>\n",
       "      <td>19</td>\n",
       "      <td>ABAIARA</td>\n",
       "      <td>-7.35542</td>\n",
       "      <td>-39.04079</td>\n",
       "      <td>CARIRI</td>\n",
       "      <td>19ª REGIÃO BREJO SANTO</td>\n",
       "      <td>2.0</td>\n",
       "      <td>0.0</td>\n",
       "      <td>0.0</td>\n",
       "    </tr>\n",
       "    <tr>\n",
       "      <th>1</th>\n",
       "      <td>230200</td>\n",
       "      <td>8</td>\n",
       "      <td>19</td>\n",
       "      <td>BARRO</td>\n",
       "      <td>-7.17277</td>\n",
       "      <td>-38.77582</td>\n",
       "      <td>CARIRI</td>\n",
       "      <td>19ª REGIÃO BREJO SANTO</td>\n",
       "      <td>4.0</td>\n",
       "      <td>0.0</td>\n",
       "      <td>0.0</td>\n",
       "    </tr>\n",
       "    <tr>\n",
       "      <th>2</th>\n",
       "      <td>230250</td>\n",
       "      <td>8</td>\n",
       "      <td>19</td>\n",
       "      <td>BREJO SANTO</td>\n",
       "      <td>-7.48943</td>\n",
       "      <td>-38.98571</td>\n",
       "      <td>CARIRI</td>\n",
       "      <td>19ª REGIÃO BREJO SANTO</td>\n",
       "      <td>11.0</td>\n",
       "      <td>0.0</td>\n",
       "      <td>0.0</td>\n",
       "    </tr>\n",
       "  </tbody>\n",
       "</table>\n",
       "</div>"
      ],
      "text/plain": [
       "   idMunicipio  idMacroRegiao  idRegiaoSaude    municipio      lat       lon  \\\n",
       "0       230010              8             19      ABAIARA -7.35542 -39.04079   \n",
       "1       230200              8             19        BARRO -7.17277 -38.77582   \n",
       "2       230250              8             19  BREJO SANTO -7.48943 -38.98571   \n",
       "\n",
       "  macroRegiao             regiaoSaude  qtdSuspeito  qtdObito  qtdConfirmado  \n",
       "0      CARIRI  19ª REGIÃO BREJO SANTO          2.0       0.0            0.0  \n",
       "1      CARIRI  19ª REGIÃO BREJO SANTO          4.0       0.0            0.0  \n",
       "2      CARIRI  19ª REGIÃO BREJO SANTO         11.0       0.0            0.0  "
      ]
     },
     "execution_count": 24,
     "metadata": {},
     "output_type": "execute_result"
    }
   ],
   "source": [
    "df_parcial.head(3)"
   ]
  },
  {
   "cell_type": "markdown",
   "metadata": {},
   "source": [
    "#### Como estão apresentados os dados de Fortaleza? "
   ]
  },
  {
   "cell_type": "code",
   "execution_count": 25,
   "metadata": {},
   "outputs": [
    {
     "data": {
      "text/html": [
       "<div>\n",
       "<style scoped>\n",
       "    .dataframe tbody tr th:only-of-type {\n",
       "        vertical-align: middle;\n",
       "    }\n",
       "\n",
       "    .dataframe tbody tr th {\n",
       "        vertical-align: top;\n",
       "    }\n",
       "\n",
       "    .dataframe thead th {\n",
       "        text-align: right;\n",
       "    }\n",
       "</style>\n",
       "<table border=\"1\" class=\"dataframe\">\n",
       "  <thead>\n",
       "    <tr style=\"text-align: right;\">\n",
       "      <th></th>\n",
       "      <th>idMunicipio</th>\n",
       "      <th>idMacroRegiao</th>\n",
       "      <th>idRegiaoSaude</th>\n",
       "      <th>municipio</th>\n",
       "      <th>lat</th>\n",
       "      <th>lon</th>\n",
       "      <th>macroRegiao</th>\n",
       "      <th>regiaoSaude</th>\n",
       "      <th>qtdSuspeito</th>\n",
       "      <th>qtdObito</th>\n",
       "      <th>qtdConfirmado</th>\n",
       "    </tr>\n",
       "  </thead>\n",
       "  <tbody>\n",
       "    <tr>\n",
       "      <th>67</th>\n",
       "      <td>230440</td>\n",
       "      <td>1</td>\n",
       "      <td>1</td>\n",
       "      <td>FORTALEZA</td>\n",
       "      <td>-3.71701</td>\n",
       "      <td>-38.53926</td>\n",
       "      <td>FORTALEZA</td>\n",
       "      <td>1ª REGIÃO FORTALEZA</td>\n",
       "      <td>6275.0</td>\n",
       "      <td>53.0</td>\n",
       "      <td>1429.0</td>\n",
       "    </tr>\n",
       "  </tbody>\n",
       "</table>\n",
       "</div>"
      ],
      "text/plain": [
       "    idMunicipio  idMacroRegiao  idRegiaoSaude  municipio      lat       lon  \\\n",
       "67       230440              1              1  FORTALEZA -3.71701 -38.53926   \n",
       "\n",
       "   macroRegiao          regiaoSaude  qtdSuspeito  qtdObito  qtdConfirmado  \n",
       "67   FORTALEZA  1ª REGIÃO FORTALEZA       6275.0      53.0         1429.0  "
      ]
     },
     "execution_count": 25,
     "metadata": {},
     "output_type": "execute_result"
    }
   ],
   "source": [
    "df_parcial[df_parcial.municipio == 'FORTALEZA']"
   ]
  },
  {
   "cell_type": "markdown",
   "metadata": {},
   "source": [
    "### Incluindo informações de número de testes"
   ]
  },
  {
   "cell_type": "code",
   "execution_count": 26,
   "metadata": {},
   "outputs": [],
   "source": [
    "## TODO"
   ]
  },
  {
   "cell_type": "markdown",
   "metadata": {},
   "source": [
    "### Informações Por Sexo e Faixa Etária"
   ]
  },
  {
   "cell_type": "code",
   "execution_count": 27,
   "metadata": {},
   "outputs": [],
   "source": [
    "## TODO\n",
    "# /api/coronavirus/qtd-por-faixa-etaria-sexo?data=2020-04-09&tipo=Confirmado&idMunicipio="
   ]
  },
  {
   "cell_type": "markdown",
   "metadata": {},
   "source": [
    "### Obter os dados por dia \n",
    "\n",
    "Como realizar a chamada dia-a-dia e criar uma tabela completa com a informação de como estava naquele dia específico? "
   ]
  },
  {
   "cell_type": "code",
   "execution_count": 28,
   "metadata": {},
   "outputs": [],
   "source": [
    "# api_qtd_por_municipio = 'https://indicadores.integrasus.saude.ce.gov.br/api/coronavirus/qtd-por-municipio'\n",
    "# data1 = get_dataframe(api_qtd_por_municipio, data='2020-03-01')\n",
    "# data2 = get_dataframe(api_qtd_por_municipio, data='2020-03-02')\n",
    "# data3 = get_dataframe(api_qtd_por_municipio, data='2020-03-03')\n",
    "# display(data1.head(3))\n",
    "# display(data2.head(3))\n",
    "# display(data3.head(3))\n",
    "\n",
    "# tudo = pd.concat([data1, data2, data3], axis=0, ignore_index=True, sort=True)\n",
    "# display(tudo.head(5))\n",
    "# del tudo, data1, data2, data3"
   ]
  },
  {
   "cell_type": "markdown",
   "metadata": {},
   "source": [
    " - **Realizar laço do dia inicial até hoje e concatenar todos resultados**"
   ]
  },
  {
   "cell_type": "code",
   "execution_count": 29,
   "metadata": {},
   "outputs": [],
   "source": [
    "# api_endpoint = \"https://indicadores.integrasus.saude.ce.gov.br/api/coronavirus/qtd-por-municipio\"\n",
    "\n",
    "# ref_date = date(year=2020, month=1, day=1) # 2020-01-01\n",
    "# end_date = date.today()\n",
    "# one_day  = timedelta(days=1)\n",
    "\n",
    "# df1 = get_dataframe(api_endpoint, data=ref_date.strftime('%Y-%m-%d'))\n",
    "# while(ref_date < end_date):\n",
    "#     ref_date = ref_date + one_day\n",
    "#     df2 = get_dataframe(api_endpoint, data=ref_date.strftime('%Y-%m-%d'))\n",
    "#     df1 = pd.concat([df1, df2], \n",
    "#                     axis=0, \n",
    "#                     ignore_index=True, sort=True)\n",
    "    \n",
    "# qtd_por_dia_tipo = df1\n",
    "# del df1, df2"
   ]
  },
  {
   "cell_type": "code",
   "execution_count": 30,
   "metadata": {},
   "outputs": [],
   "source": [
    "# display(qtd_municipios_data.shape)\n",
    "# display(qtd_municipios_data.head(10))\n",
    "# display(qtd_municipios_data.shape)\n",
    "# qtd_municipios_data.drop_duplicates(inplace=True)\n",
    "# qtd_municipios_data = qtd_municipios_data[~qtd_municipios_data.idMunicipio.isna()]\n",
    "# display(qtd_municipios_data.shape)\n",
    "# display(qtd_municipios_data.head(3))\n",
    "# qtd_municipios_data = qtd_municipios_data.groupby(['data','idMunicipio']).sum()\n",
    "# qtd_municipios_data.head()\n",
    "# df = qtd_municipios_data\n",
    "# df['difQtdConfirmado'] = np.nan\n",
    "# df['difQtdObito']      = np.nan\n",
    "# df.sort_index(inplace=True)\n",
    "# display(df)\n",
    "# for idx in df.index.levels[0]:\n",
    "#     df.difQtdConfirmado[idx] = df.difQtdConfirmado[idx].diff()\n",
    "#     df.difQtdObito[idx]      = df.difQtdObito[idx].diff()\n",
    "\n",
    "# df[df.idMunicipio == 230440][~df.difQtdObito.isna()]"
   ]
  },
  {
   "cell_type": "markdown",
   "metadata": {},
   "source": [
    "### Obter Contagens Por Dia (NOVA API: qtd-por-dia-tipo)\n",
    "\n",
    "Liberaram uma API muito boa que dá o resultado por dia, mas um problema é que não temos a identificação do município no retorno. \n",
    "Contudo, como posso passar o município como parâmetro para a API, irei utilizado para iterar na lista de municípios, realizar uma consulta específica por município e unir os dados. \n",
    "Observer que ficou bem mais fácil que o código complexo acima que está comentado. "
   ]
  },
  {
   "cell_type": "code",
   "execution_count": 31,
   "metadata": {},
   "outputs": [],
   "source": [
    "api_endpoint = \"https://indicadores.integrasus.saude.ce.gov.br/api/coronavirus/qtd-por-dia-tipo\"\n",
    "qtd_por_dia_municipio = [get_dataframe(api_endpoint, id_municipio=idm) for idm in municipios.id]\n",
    "qtd_por_dia = pd.concat(qtd_por_dia_municipio, axis=0, ignore_index=True, sort=True)\n",
    "qtd_por_dia['data'] = pd.to_datetime(qtd_por_dia['data'], format='%d/%m/%Y')\n",
    "qtd_por_dia.head(3)\n",
    "qtd_por_dia.sort_values(['data','idMunicipio'], inplace=True)"
   ]
  },
  {
   "cell_type": "code",
   "execution_count": 32,
   "metadata": {},
   "outputs": [
    {
     "data": {
      "text/plain": [
       "'Menor data 2019-03-16 00:00:00 e maior data 2020-08-17 00:00:00'"
      ]
     },
     "metadata": {},
     "output_type": "display_data"
    },
    {
     "data": {
      "text/plain": [
       "'Quantidade de municípios com código vazio: 0'"
      ]
     },
     "metadata": {},
     "output_type": "display_data"
    },
    {
     "data": {
      "text/html": [
       "<div>\n",
       "<style scoped>\n",
       "    .dataframe tbody tr th:only-of-type {\n",
       "        vertical-align: middle;\n",
       "    }\n",
       "\n",
       "    .dataframe tbody tr th {\n",
       "        vertical-align: top;\n",
       "    }\n",
       "\n",
       "    .dataframe thead th {\n",
       "        text-align: right;\n",
       "    }\n",
       "</style>\n",
       "<table border=\"1\" class=\"dataframe\">\n",
       "  <thead>\n",
       "    <tr style=\"text-align: right;\">\n",
       "      <th></th>\n",
       "      <th>data</th>\n",
       "      <th>idMunicipio</th>\n",
       "      <th>quantidade</th>\n",
       "      <th>tipo</th>\n",
       "    </tr>\n",
       "  </thead>\n",
       "  <tbody>\n",
       "    <tr>\n",
       "      <th>473</th>\n",
       "      <td>2019-03-16</td>\n",
       "      <td>230440</td>\n",
       "      <td>1.0</td>\n",
       "      <td>Suspeito</td>\n",
       "    </tr>\n",
       "    <tr>\n",
       "      <th>474</th>\n",
       "      <td>2020-01-30</td>\n",
       "      <td>230440</td>\n",
       "      <td>1.0</td>\n",
       "      <td>Suspeito</td>\n",
       "    </tr>\n",
       "    <tr>\n",
       "      <th>104</th>\n",
       "      <td>2020-02-23</td>\n",
       "      <td>230120</td>\n",
       "      <td>1.0</td>\n",
       "      <td>Suspeito</td>\n",
       "    </tr>\n",
       "    <tr>\n",
       "      <th>475</th>\n",
       "      <td>2020-02-27</td>\n",
       "      <td>230440</td>\n",
       "      <td>5.0</td>\n",
       "      <td>Suspeito</td>\n",
       "    </tr>\n",
       "    <tr>\n",
       "      <th>422</th>\n",
       "      <td>2020-02-28</td>\n",
       "      <td>230428</td>\n",
       "      <td>1.0</td>\n",
       "      <td>Suspeito</td>\n",
       "    </tr>\n",
       "  </tbody>\n",
       "</table>\n",
       "</div>"
      ],
      "text/plain": [
       "          data  idMunicipio  quantidade      tipo\n",
       "473 2019-03-16       230440         1.0  Suspeito\n",
       "474 2020-01-30       230440         1.0  Suspeito\n",
       "104 2020-02-23       230120         1.0  Suspeito\n",
       "475 2020-02-27       230440         5.0  Suspeito\n",
       "422 2020-02-28       230428         1.0  Suspeito"
      ]
     },
     "metadata": {},
     "output_type": "display_data"
    }
   ],
   "source": [
    "display(\"Menor data {} e maior data {}\".format(qtd_por_dia.data.min(), qtd_por_dia.data.max()))\n",
    "display(\"Quantidade de municípios com código vazio: {}\".format(qtd_por_dia[qtd_por_dia.idMunicipio.isna()].shape[0]))\n",
    "display(qtd_por_dia.head(5))"
   ]
  },
  {
   "cell_type": "markdown",
   "metadata": {},
   "source": [
    "### Inconsistência: Dados de 2019 e no futuro \n",
    "Inconsistência na informação: dados de Março de 2019 e Agosto de 2020.  \n",
    "Reportado em: https://github.com/EscolaDeSaudePublica/coronavirusAPI/issues/17#issuecomment-612434411"
   ]
  },
  {
   "cell_type": "markdown",
   "metadata": {},
   "source": [
    "### Limpeza de dados inconsistentes"
   ]
  },
  {
   "cell_type": "code",
   "execution_count": 33,
   "metadata": {},
   "outputs": [
    {
     "data": {
      "text/plain": [
       "(1475, 4)"
      ]
     },
     "metadata": {},
     "output_type": "display_data"
    },
    {
     "data": {
      "text/plain": [
       "(1463, 4)"
      ]
     },
     "metadata": {},
     "output_type": "display_data"
    }
   ],
   "source": [
    "display(qtd_por_dia.shape)\n",
    "inicio = datetime(year=2020,month=2, day=1)\n",
    "fim    = datetime.today()\n",
    "qtd_por_dia = qtd_por_dia[(qtd_por_dia['data'] > inicio) & (qtd_por_dia['data'] <= fim)]\n",
    "display(qtd_por_dia.shape)"
   ]
  },
  {
   "cell_type": "code",
   "execution_count": 34,
   "metadata": {},
   "outputs": [],
   "source": [
    "# fig = px.bar(qtd_por_dia, x=\"data\", y=\"quantidade\", color='tipo', barmode='group')\n",
    "# fig.show()"
   ]
  },
  {
   "cell_type": "code",
   "execution_count": 35,
   "metadata": {},
   "outputs": [],
   "source": [
    "# qtd_por_dia['log_quantidade'] = np.log(qtd_por_dia.quantidade)\n",
    "# fig = px.bar(qtd_por_dia, x=\"data\", y=\"log_quantidade\", color='tipo', barmode='group')\n",
    "# fig.show()"
   ]
  },
  {
   "cell_type": "code",
   "execution_count": 36,
   "metadata": {},
   "outputs": [],
   "source": [
    "qtd_por_dia = municipio_macro_regiao.merge(qtd_por_dia, on='idMunicipio')"
   ]
  },
  {
   "cell_type": "code",
   "execution_count": 37,
   "metadata": {},
   "outputs": [
    {
     "data": {
      "text/plain": [
       "(1458, 11)"
      ]
     },
     "metadata": {},
     "output_type": "display_data"
    },
    {
     "data": {
      "text/html": [
       "<div>\n",
       "<style scoped>\n",
       "    .dataframe tbody tr th:only-of-type {\n",
       "        vertical-align: middle;\n",
       "    }\n",
       "\n",
       "    .dataframe tbody tr th {\n",
       "        vertical-align: top;\n",
       "    }\n",
       "\n",
       "    .dataframe thead th {\n",
       "        text-align: right;\n",
       "    }\n",
       "</style>\n",
       "<table border=\"1\" class=\"dataframe\">\n",
       "  <thead>\n",
       "    <tr style=\"text-align: right;\">\n",
       "      <th></th>\n",
       "      <th>idMunicipio</th>\n",
       "      <th>idMacroRegiao</th>\n",
       "      <th>idRegiaoSaude</th>\n",
       "      <th>municipio</th>\n",
       "      <th>lat</th>\n",
       "      <th>lon</th>\n",
       "      <th>macroRegiao</th>\n",
       "      <th>regiaoSaude</th>\n",
       "      <th>data</th>\n",
       "      <th>quantidade</th>\n",
       "      <th>tipo</th>\n",
       "    </tr>\n",
       "  </thead>\n",
       "  <tbody>\n",
       "    <tr>\n",
       "      <th>0</th>\n",
       "      <td>230010</td>\n",
       "      <td>8</td>\n",
       "      <td>19</td>\n",
       "      <td>ABAIARA</td>\n",
       "      <td>-735542</td>\n",
       "      <td>-3904079</td>\n",
       "      <td>CARIRI</td>\n",
       "      <td>19ª REGIÃO BREJO SANTO</td>\n",
       "      <td>2020-04-02</td>\n",
       "      <td>1.0</td>\n",
       "      <td>Suspeito</td>\n",
       "    </tr>\n",
       "    <tr>\n",
       "      <th>1</th>\n",
       "      <td>230010</td>\n",
       "      <td>8</td>\n",
       "      <td>19</td>\n",
       "      <td>ABAIARA</td>\n",
       "      <td>-735542</td>\n",
       "      <td>-3904079</td>\n",
       "      <td>CARIRI</td>\n",
       "      <td>19ª REGIÃO BREJO SANTO</td>\n",
       "      <td>2020-04-07</td>\n",
       "      <td>1.0</td>\n",
       "      <td>Suspeito</td>\n",
       "    </tr>\n",
       "    <tr>\n",
       "      <th>2</th>\n",
       "      <td>230200</td>\n",
       "      <td>8</td>\n",
       "      <td>19</td>\n",
       "      <td>BARRO</td>\n",
       "      <td>-717277</td>\n",
       "      <td>-3877582</td>\n",
       "      <td>CARIRI</td>\n",
       "      <td>19ª REGIÃO BREJO SANTO</td>\n",
       "      <td>2020-03-19</td>\n",
       "      <td>1.0</td>\n",
       "      <td>Suspeito</td>\n",
       "    </tr>\n",
       "  </tbody>\n",
       "</table>\n",
       "</div>"
      ],
      "text/plain": [
       "   idMunicipio  idMacroRegiao  idRegiaoSaude municipio      lat       lon  \\\n",
       "0       230010              8             19   ABAIARA  -735542  -3904079   \n",
       "1       230010              8             19   ABAIARA  -735542  -3904079   \n",
       "2       230200              8             19     BARRO  -717277  -3877582   \n",
       "\n",
       "  macroRegiao             regiaoSaude       data  quantidade      tipo  \n",
       "0      CARIRI  19ª REGIÃO BREJO SANTO 2020-04-02         1.0  Suspeito  \n",
       "1      CARIRI  19ª REGIÃO BREJO SANTO 2020-04-07         1.0  Suspeito  \n",
       "2      CARIRI  19ª REGIÃO BREJO SANTO 2020-03-19         1.0  Suspeito  "
      ]
     },
     "metadata": {},
     "output_type": "display_data"
    }
   ],
   "source": [
    "display(qtd_por_dia.shape)\n",
    "display(qtd_por_dia.head(3))"
   ]
  },
  {
   "cell_type": "markdown",
   "metadata": {},
   "source": [
    "### Exportar Dados para Excel / CSV"
   ]
  },
  {
   "cell_type": "code",
   "execution_count": 38,
   "metadata": {},
   "outputs": [],
   "source": [
    "# Salvando o número de casos por munício em formato CSV\n",
    "df_parcial.to_csv('../data/dados_por_municipio_{}.csv'.format(date.today()))\n",
    "# Salvando o número casos por dia e municipio CSV\n",
    "qtd_por_dia.to_csv('../data/dados_por_municipio_dia_{}.csv'.format(date.today()))"
   ]
  },
  {
   "cell_type": "code",
   "execution_count": 39,
   "metadata": {
    "scrolled": false
   },
   "outputs": [],
   "source": [
    "# df = df_parcial\n",
    "# fig = px.scatter_mapbox(df, lat=\"latitude\", lon=\"longitude\", \n",
    "#                         hover_name=\"descricaoMunicipio\", \n",
    "#                         hover_data=[\"descricaoMunicipio\", \"qtdSuspeito\",\"qtdObito\", \"qtdConfirmado\"], \n",
    "#                         zoom=5, height=300)\n",
    "\n",
    "# fig.update_layout(mapbox_style=\"open-street-map\")\n",
    "# fig.update_layout(margin={\"r\":0,\"t\":0,\"l\":0,\"b\":0})\n",
    "# fig.show()"
   ]
  },
  {
   "cell_type": "code",
   "execution_count": 40,
   "metadata": {},
   "outputs": [
    {
     "ename": "NameError",
     "evalue": "name 'px' is not defined",
     "output_type": "error",
     "traceback": [
      "\u001b[0;31m---------------------------------------------------------------------------\u001b[0m",
      "\u001b[0;31mNameError\u001b[0m                                 Traceback (most recent call last)",
      "\u001b[0;32m<ipython-input-40-7d31002de9f0>\u001b[0m in \u001b[0;36m<module>\u001b[0;34m\u001b[0m\n\u001b[0;32m----> 1\u001b[0;31m fig = px.scatter_mapbox(df, lat=\"latitude\", lon=\"longitude\",\n\u001b[0m\u001b[1;32m      2\u001b[0m                         \u001b[0mcolor\u001b[0m\u001b[0;34m=\u001b[0m\u001b[0;34m\"qtdConfirmado\"\u001b[0m\u001b[0;34m,\u001b[0m \u001b[0msize\u001b[0m\u001b[0;34m=\u001b[0m\u001b[0;34m\"qtdSuspeito\"\u001b[0m\u001b[0;34m,\u001b[0m\u001b[0;34m\u001b[0m\u001b[0;34m\u001b[0m\u001b[0m\n\u001b[1;32m      3\u001b[0m                         \u001b[0mhover_data\u001b[0m\u001b[0;34m=\u001b[0m\u001b[0;34m[\u001b[0m\u001b[0;34m\"descricaoMunicipio\"\u001b[0m\u001b[0;34m,\u001b[0m \u001b[0;34m\"qtdSuspeito\"\u001b[0m\u001b[0;34m,\u001b[0m\u001b[0;34m\"qtdObito\"\u001b[0m\u001b[0;34m,\u001b[0m \u001b[0;34m\"qtdConfirmado\"\u001b[0m\u001b[0;34m]\u001b[0m\u001b[0;34m,\u001b[0m\u001b[0;34m\u001b[0m\u001b[0;34m\u001b[0m\u001b[0m\n\u001b[1;32m      4\u001b[0m                   color_continuous_scale=px.colors.carto.Armyrose, size_max=100, zoom=5)\n\u001b[1;32m      5\u001b[0m \u001b[0mfig\u001b[0m\u001b[0;34m.\u001b[0m\u001b[0mupdate_layout\u001b[0m\u001b[0;34m(\u001b[0m\u001b[0mmapbox_style\u001b[0m\u001b[0;34m=\u001b[0m\u001b[0;34m\"open-street-map\"\u001b[0m\u001b[0;34m)\u001b[0m \u001b[0;31m#stamen-terrain\u001b[0m\u001b[0;34m\u001b[0m\u001b[0;34m\u001b[0m\u001b[0m\n",
      "\u001b[0;31mNameError\u001b[0m: name 'px' is not defined"
     ]
    }
   ],
   "source": [
    "fig = px.scatter_mapbox(df, lat=\"latitude\", lon=\"longitude\",\n",
    "                        color=\"qtdConfirmado\", size=\"qtdSuspeito\",\n",
    "                        hover_data=[\"descricaoMunicipio\", \"qtdSuspeito\",\"qtdObito\", \"qtdConfirmado\"],\n",
    "                  color_continuous_scale=px.colors.carto.Armyrose, size_max=100, zoom=5)\n",
    "fig.update_layout(mapbox_style=\"open-street-map\") #stamen-terrain\n",
    "fig.show()"
   ]
  },
  {
   "cell_type": "code",
   "execution_count": null,
   "metadata": {},
   "outputs": [],
   "source": []
  },
  {
   "cell_type": "code",
   "execution_count": null,
   "metadata": {},
   "outputs": [],
   "source": [
    "import plotly.express as px\n",
    "df = px.data.gapminder()\n",
    "px.scatter(df, x=\"gdpPercap\", y=\"lifeExp\", animation_frame=\"year\", animation_group=\"country\",\n",
    "           size=\"pop\", color=\"continent\", hover_name=\"country\",\n",
    "           log_x=True, size_max=55, range_x=[100,100000], range_y=[25,90])"
   ]
  },
  {
   "cell_type": "code",
   "execution_count": null,
   "metadata": {},
   "outputs": [],
   "source": [
    "quakes = pd.read_csv('https://raw.githubusercontent.com/plotly/datasets/master/earthquakes-23k.csv')\n",
    "\n",
    "import plotly.graph_objects as go\n",
    "fig = go.Figure(go.Densitymapbox(lat=quakes.Latitude, lon=quakes.Longitude, z=quakes.Magnitude,\n",
    "                                 radius=10))\n",
    "fig.update_layout(mapbox_style=\"stamen-terrain\", mapbox_center_lon=180)\n",
    "fig.update_layout(margin={\"r\":0,\"t\":0,\"l\":0,\"b\":0})\n",
    "fig.show()"
   ]
  },
  {
   "cell_type": "code",
   "execution_count": null,
   "metadata": {},
   "outputs": [],
   "source": []
  },
  {
   "cell_type": "code",
   "execution_count": null,
   "metadata": {},
   "outputs": [],
   "source": []
  }
 ],
 "metadata": {
  "kernelspec": {
   "display_name": "Python 3.7.4 64-bit",
   "language": "python",
   "name": "python37464bitf9be23ff6cb04faa88966279fd4e14de"
  },
  "language_info": {
   "codemirror_mode": {
    "name": "ipython",
    "version": 3
   },
   "file_extension": ".py",
   "mimetype": "text/x-python",
   "name": "python",
   "nbconvert_exporter": "python",
   "pygments_lexer": "ipython3",
   "version": "3.7.4"
  }
 },
 "nbformat": 4,
 "nbformat_minor": 4
}
